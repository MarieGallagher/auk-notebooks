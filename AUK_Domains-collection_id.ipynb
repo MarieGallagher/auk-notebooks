{
 "cells": [
  {
   "cell_type": "code",
   "execution_count": 10,
   "metadata": {
    "collapsed": true
   },
   "outputs": [],
   "source": [
    "# RUN THIS FIRST\n",
    "\n",
    "# This Window will set up all the necessary libraries and dependencies\n",
    "# for your Collection.\n",
    "coll_id = \"4656\"\n",
    "auk_fp = \"data/\"\n",
    "auk_full_text = auk_fp + coll_id + \"-fulltext.txt\"\n",
    "auk_gephi = auk_fp + coll_id + \"-gephi.gexf\"\n",
    "auk_graphml = auk_fp + coll_id + \"-gephi.grapml\"\n",
    "auk_domains = auk_fp + coll_id + \"-fullurls.txt\"\n",
    "auk_filtered_text = auk_fp + coll_id + \"-filtered_text.zip\"\n",
    "\n",
    "# The following script will attempt to install the necessary dependencies\n",
    "# for the visualisations. You may prefer to install these on your\n",
    "# own in the command line.\n",
    "import sys\n",
    "from collections import Counter\n",
    "\n",
    "try:  # a library for manipulating column data.\n",
    "    import pandas as pd\n",
    "except ImportError:\n",
    "    !{sys.executable} -m pip install pandas  \n",
    "\n",
    "try:\n",
    "    import matplotlib.pyplot as plt # a library for Plotting\n",
    "except ImportError:\n",
    "    !{sys.executable} -m pip install matplotlib\n",
    "\n",
    "try:\n",
    "    import numpy as np # a library for complex mathematics\n",
    "except ImportError:\n",
    "    !{sys.executable} -m pip install numpy\n",
    "    \n",
    "try:\n",
    "    from nltk.tokenize import word_tokenize\n",
    "    from nltk.draw.dispersion import dispersion_plot as dp\n",
    "except ImportError:\n",
    "    !{sys.executable} -m pip install nltk\n",
    "    nltk.download('punkt')"
   ]
  },
  {
   "cell_type": "code",
   "execution_count": 64,
   "metadata": {},
   "outputs": [],
   "source": [
    "with open(auk_domains) as f:\n",
    "    content = f.readlines()\n",
    "content = [x.split(',') for x in [x.strip('()\\n') for x in content]] "
   ]
  },
  {
   "cell_type": "code",
   "execution_count": 67,
   "metadata": {},
   "outputs": [
    {
     "data": {
      "text/plain": [
       "[['save.ca', '3'],\n",
       " ['www.pivotlegal.org', '3'],\n",
       " ['www.google.com', '3'],\n",
       " ['www.blackpress.ca', '2'],\n",
       " ['t4.liverail.com', '2'],\n",
       " ['bpresscn.accuweather.com', '2'],\n",
       " ['jameshance.tumblr.com', '2'],\n",
       " ['staticxx.facebook.com', '2'],\n",
       " ['storify.com', '2'],\n",
       " ['joliekerr.tumblr.com', '2']]"
      ]
     },
     "execution_count": 67,
     "metadata": {},
     "output_type": "execute_result"
    }
   ],
   "source": [
    "content[:10]"
   ]
  },
  {
   "cell_type": "code",
   "execution_count": 57,
   "metadata": {
    "collapsed": true
   },
   "outputs": [],
   "source": []
  },
  {
   "cell_type": "code",
   "execution_count": null,
   "metadata": {
    "collapsed": true
   },
   "outputs": [],
   "source": []
  }
 ],
 "metadata": {
  "kernelspec": {
   "display_name": "Python 3",
   "language": "python",
   "name": "python3"
  },
  "language_info": {
   "codemirror_mode": {
    "name": "ipython",
    "version": 3
   },
   "file_extension": ".py",
   "mimetype": "text/x-python",
   "name": "python",
   "nbconvert_exporter": "python",
   "pygments_lexer": "ipython3",
   "version": "3.5.2"
  }
 },
 "nbformat": 4,
 "nbformat_minor": 1
}
