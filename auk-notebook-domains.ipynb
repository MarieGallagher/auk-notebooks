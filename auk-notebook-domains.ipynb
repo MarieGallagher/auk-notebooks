{
 "cells": [
  {
   "cell_type": "markdown",
   "metadata": {},
   "source": [
    "\n",
    "<img src=\"https://raw.githubusercontent.com/archivesunleashed/archivesunleashed.org/master/themes/hugo-material-docs/static/images/logo-square.png\" height=\"100px\" width=\"100px\">\n",
    "\n",
    "\n",
    "# Welcome to the Domains Analysis Notebook\n",
    "\n",
    "Welcome to the Archives Unleashed Domains Analysis Jupyter Notebook. This demonstration takes the domain derivatives from the Cloud and uses Python to analyze and produce information about your collection.\n",
    "\n",
    "Please feel free to create an [issue](https://github.com/archivesunleashed/auk/issues) to let us know about any bugs you encounter or improvements you would like to see.\n",
    "\n",
    "If you have Python experience, please feel free to change the provided code to suit your own needs.\n",
    "\n",
    "We recommend that you use `File > Make a Copy` first before changing the code in the repository. That way, you can always return to the basic visualizations we have offered here. Of course, you can also just re-download the Jupyter Notebook file from your Archives Unleashed Cloud account.\n",
    "\n",
    "### How Jupyter Notebooks Work\n",
    "\n",
    "If you have no previous experience with Jupyter Notebooks, the most important thing to understand is that that `<Shift> + <Enter/Return>` will run the Python code inside a cell and output it to below the cell.\n",
    "    \n",
    "The cells that cover the required inputs, marked \"Setup\", need to be run before the rest of the notebook will work. These cells will import all the libraries and set basic variables (e.g. where your derivative files are located) for the notebook. After that, everything else should be able to run on its own.\n",
    "\n",
    "If you just want to see all results for your collection, use `Cell > Run All`.\n"
   ]
  },
  {
   "cell_type": "markdown",
   "metadata": {},
   "source": [
    "# Setup"
   ]
  },
  {
   "cell_type": "markdown",
   "metadata": {},
   "source": [
    "## The Collection ID\n",
    "\n",
    "This variable is the most important, and the only variable you need to change to see a complete set of visualizations for your [Archives Unleashed Cloud derivatives](https://cloud.archivesunleashed.org/derivatives)."
   ]
  },
  {
   "cell_type": "code",
   "execution_count": 1,
   "metadata": {},
   "outputs": [],
   "source": [
    "COLLECTION_ID = '4867'  # Change to switch collections.\n",
    "AUK_PATH = 'data/'  # Change value to full path to your data, including trailing slash."
   ]
  },
  {
   "cell_type": "markdown",
   "metadata": {},
   "source": [
    "This section imports the AuNotebook custom class that includes some methods for accessing derivatives and producing visualizations. Also, some libraries like [pandas](https://pandas.pydata.org/), [numpy](http://www.numpy.org/), [networkx](https://networkx.github.io/), and [nltk](https://www.nltk.org/) will be imported so you can do additional analysis."
   ]
  },
  {
   "cell_type": "code",
   "execution_count": 2,
   "metadata": {},
   "outputs": [],
   "source": [
    "# Required packages.\n",
    "\n",
    "from au_notebook import au_notebook\n",
    "import matplotlib.pyplot as plt\n",
    "import pandas as pd\n",
    "import numpy as np"
   ]
  },
  {
   "cell_type": "markdown",
   "metadata": {},
   "source": [
    "## User Configuration\n",
    "\n",
    "The following cell sets up the notebook functions under the name `nb`. If you want to use one of the functions in the class, you can use `nb.function_name()`. For example, `nb.get_text()` returns the data from the text derivative as a single text string. Use `nb.__dict__` to see the available settings and functions and `help(nb.function_name)` to see the documentation for a particular function. \n",
    "\n",
    "While setting up the functions, you may also want to change some of the default settings.\n",
    "\n",
    "Take a look here: are there any domains you are not interested in? How many words would you like to be shown? Do you want to filter out 404 results? Do you want to sample the data? Read the choices below carefully."
   ]
  },
  {
   "cell_type": "code",
   "execution_count": 3,
   "metadata": {},
   "outputs": [],
   "source": [
    "nb = au_notebook(COLLECTION_ID, AUK_PATH,\n",
    "\n",
    "# Maximum number of words to show in output.\n",
    "# Jupyter will create an output error if the number is too high.\n",
    "\n",
    "TOP_COUNT = 30,\n",
    "\n",
    "# Domain suffixes to check non-U.S. domains so that (e.g.) www.google.co.uk will become \"google\".\n",
    "\n",
    "STOP_DOMAINS = [\"co\", \"org\", \"net\", \"edu\"], # Domain suffixes to remove.\n",
    "\n",
    "FILTERED_DOMAINS = [], # E.g [\"google\", \"apple\", \"facebook\"].\n",
    "\n",
    ")"
   ]
  },
  {
   "cell_type": "markdown",
   "metadata": {},
   "source": [
    "# Basic Analysis of Domains\n",
    "\n",
    "Domains data provides basic information about what is crawled and how often. Change the variables in the following cell to manipulate the domain analysis. For example, you may want to exclude common domains (i.e. \"google\") or you may be interested in sub-domains such as ca.geocities.com."
   ]
  },
  {
   "cell_type": "code",
   "execution_count": 4,
   "metadata": {},
   "outputs": [],
   "source": [
    "DOMAIN_BY = 'full' # Change to 'sub' if you want to include subdomains.\n",
    "DOMAIN_EXCLUDE = ['google', 'facebook', 'youtube', 'apple'] # Add items to this list to exclude from the collection.\n",
    "DOMAIN_FIGURE_SIZE = [10, 4] # Change the width and height of your graph plot ([wdth, hgt]).\n",
    "DOMAIN_RESULTS = 30 # The number of results to plot.\n",
    "DOMAIN_BAR_WIDTH = 0.35 # The width of the bars in the histogram.\n",
    "DOMAIN_Y_LABEL = \"Number of occurences.\" # The label for the y axis.\n",
    "DOMAIN_TITLE = \"Top domains by count.\" # The title of the graph.\n",
    "DOMAIN_CSV_OUTPUT = 'domains.csv' # Name of .csv file for output."
   ]
  },
  {
   "cell_type": "code",
   "execution_count": 5,
   "metadata": {},
   "outputs": [],
   "source": [
    "domains = nb.get_domains(DOMAIN_BY) # Gets the data from the domains derivative."
   ]
  },
  {
   "cell_type": "markdown",
   "metadata": {},
   "source": [
    "## Add Domain Data to Pandas Dataframe and Output to CSV\n",
    "\n",
    "Domain data is usually straight forward, but you may want to add additional modifiers. Pandas dataframes are a good way of doing this."
   ]
  },
  {
   "cell_type": "code",
   "execution_count": 6,
   "metadata": {},
   "outputs": [
    {
     "name": "stdout",
     "output_type": "stream",
     "text": [
      "               DOMAIN SUFFIX  COUNT\n",
      "0  support.google.com    com     18\n",
      "1         storify.com    com     18\n",
      "2   www.globalnews.ca     ca     15\n",
      "3        www.scmp.com    com     15\n"
     ]
    }
   ],
   "source": [
    "domain_array = [(key, key.split('.')[-1], val) for key, val in domains.items()]\n",
    "dataframe = pd.DataFrame(domain_array, columns=['DOMAIN', 'SUFFIX', 'COUNT'])\n",
    "\n",
    "print(dataframe.iloc[0:4])\n",
    "\n",
    "## Removing the # on the following line will write the results \n",
    "## as a csv file to DOMAIN_CSV_OUTPUT ('domains.csv' by default).\n",
    "\n",
    "# dataframe.to_csv(DOMAIN_CSV_OUTPUT)"
   ]
  },
  {
   "cell_type": "code",
   "execution_count": 7,
   "metadata": {},
   "outputs": [
    {
     "name": "stdout",
     "output_type": "stream",
     "text": [
      "                           DOMAIN SUFFIX  COUNT\n",
      "8              www.bcliberals.com    com  91615\n",
      "10                    twitter.com    com   8474\n",
      "11  www.staffroomconfidential.com    com   2776\n",
      "12               www.facebook.com    com   2552\n"
     ]
    }
   ],
   "source": [
    "print(\n",
    "    dataframe.loc[dataframe['SUFFIX'] == 'com'] # Get just the .com domains.\n",
    "        .sort_values(by='COUNT', axis=0, ascending=False) # Sort by count.\n",
    "        .iloc[0:4] # Get first 4 items.\n",
    "     )"
   ]
  },
  {
   "cell_type": "code",
   "execution_count": 8,
   "metadata": {},
   "outputs": [
    {
     "data": {
      "image/png": "[encoded data removed]",
      "text/plain": [
       "<Figure size 720x288 with 1 Axes>"
      ]
     },
     "metadata": {
      "needs_background": "light"
     },
     "output_type": "display_data"
    }
   ],
   "source": [
    "# Count the times a domain appears and count it.\n",
    "\n",
    "name_domains = nb.get_domains('name') # Remove prefix and suffix (ie. 'www.google.com' becomes 'google').\n",
    "plt.rcParams['figure.figsize'] = DOMAIN_FIGURE_SIZE # Set the figure size for the graph.\n",
    "most_common = name_domains.most_common(DOMAIN_RESULTS) \n",
    "vals = [x[1] for x in most_common if x[0] not in DOMAIN_EXCLUDE]\n",
    "labs = [x[0] for x in most_common if x[0] not in DOMAIN_EXCLUDE]\n",
    "ind = np.arange(len(vals))\n",
    "width = DOMAIN_BAR_WIDTH\n",
    "p1 = plt.bar(ind, vals, width)\n",
    "plt.ylabel(DOMAIN_Y_LABEL)\n",
    "plt.title(DOMAIN_TITLE)\n",
    "plt.xticks(ind, labs, rotation='vertical')\n",
    "plt.show()"
   ]
  },
  {
   "cell_type": "markdown",
   "metadata": {},
   "source": [
    "# Bibliography\n",
    "- Archives Unleashed Project. (2018). Archives Unleashed Toolkit (Version 0.17.0). Apache License, Version 2.0.\n",
    "- Aric A. Hagberg, Daniel A. Schult and Pieter J. Swart, “Exploring network structure, dynamics, and function using NetworkX”, in Proceedings of the 7th Python in Science Conference (SciPy2008), Gäel Varoquaux, Travis Vaught, and Jarrod Millman (Eds), (Pasadena, CA USA), pp. 11–15, Aug 2008.\n",
    "- Bird, Steven, Edward Loper and Ewan Klein (2009), *Natural Language Processing with Python*. O’Reilly Media Inc.\n",
    "- University of Victoria Libraries, B.C. Teachers' Labour Dispute (2014), Archive-It Collection 4867, https://archive-it.org/collections/4867."
   ]
  }
 ],
 "metadata": {
  "kernelspec": {
   "display_name": "Python 3",
   "language": "python",
   "name": "python3"
  },
  "language_info": {
   "codemirror_mode": {
    "name": "ipython",
    "version": 3
   },
   "file_extension": ".py",
   "mimetype": "text/x-python",
   "name": "python",
   "nbconvert_exporter": "python",
   "pygments_lexer": "ipython3",
   "version": "3.7.2"
  }
 },
 "nbformat": 4,
 "nbformat_minor": 2
}
