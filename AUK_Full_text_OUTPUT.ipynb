{
 "cells": [
  {
   "cell_type": "markdown",
   "metadata": {},
   "source": [
    "\n",
    "<img src=\"https://raw.githubusercontent.com/archivesunleashed/archivesunleashed.org/master/themes/hugo-material-docs/static/images/logo-square.png\" height=\"100px\" width=\"100px\">\n",
    "\n",
    "\n",
    "# Welcome\n",
    "\n",
    "Welcome to the Archives Unleashed Cloud Visualization Demo in Jupyter Notebook for your collection. This demonstration takes the main derivatives from the Cloud and uses Python to analyze and produce information about your collection.\n",
    "\n",
    "This product is in beta, so if you encounter any issues, please post an [issue in our Github repository](https://github.com/archivesunleashed/auk/issues) to let us know about any bugs you encountered or features you would like to see included.\n",
    "\n",
    "If you have some basic Python coding experience, you can change the code we provided to suit your own needs.\n",
    "\n",
    "Unfortunately, we cannot support code that you produced yourself. We recommend that you use `File > Make a Copy` first before changing the code in the repository. That way, you can always return to the basic visualizations we have offered here. Of course, you can also just re-download the Jupyter Notebook file from your Archives Unleashed Cloud account.\n",
    "\n",
    "### How Jupyter Notebooks Work:\n",
    "\n",
    "If you have no previous experience of Jupyter Notebooks, the most important thing to understand is that that <Shift><Enter/Return> will run the python code inside a window and output it to the site.\n",
    "    \n",
    "The window titled `# RUN THIS FIRST` should be the first place you go. This will import all the libraries and set basic variables (e.g. where your derivative files are located) for the notebook. After that, everything else should be able to run on its own.\n"
   ]
  },
  {
   "cell_type": "code",
   "execution_count": 3,
   "metadata": {},
   "outputs": [
    {
     "name": "stderr",
     "output_type": "stream",
     "text": [
      "/usr/local/lib/python3.7/site-packages/nltk/draw/__init__.py:15: UserWarning: nltk.draw package not loaded (please install Tkinter library).\n",
      "  warnings.warn(\"nltk.draw package not loaded \" \"(please install Tkinter library).\")\n"
     ]
    }
   ],
   "source": [
    "# RUN THIS FIRST\n",
    "\n",
    "# This Window will set up all the necessary libraries and dependencies\n",
    "# for your Collection.\n",
    "coll_id = \"4656\"\n",
    "auk_fp = \"data/\"\n",
    "auk_full_text = auk_fp + coll_id + \"-fulltext.txt\"\n",
    "auk_gephi = auk_fp + coll_id + \"-gephi.gexf\"\n",
    "auk_graphml = auk_fp + coll_id + \"-gephi.grapml\"\n",
    "auk_domains = auk_fp + coll_id + \"-fullurls.txt\"\n",
    "auk_filtered_text = auk_fp + coll_id + \"-filtered_text.zip\"\n",
    "\n",
    "# The following script will attempt to install the necessary dependencies\n",
    "# for the visualisations. You may prefer to install these on your\n",
    "# own in the command line.\n",
    "import sys\n",
    "from collections import Counter\n",
    "\n",
    "try:  # a library for manipulating column data.\n",
    "    import pandas as pd\n",
    "except ImportError:\n",
    "    !{sys.executable} -m pip install pandas  \n",
    "\n",
    "try:\n",
    "    import matplotlib.pyplot as plt # a library for Plotting\n",
    "except ImportError:\n",
    "    !{sys.executable} -m pip install matplotlib\n",
    "\n",
    "try:\n",
    "    import numpy as np # a library for complex mathematics\n",
    "except ImportError:\n",
    "    !{sys.executable} -m pip install numpy\n",
    "    \n",
    "try:\n",
    "    from nltk.tokenize import word_tokenize\n",
    "    from nltk.draw.dispersion import dispersion_plot as dp\n",
    "except ImportError:\n",
    "    !{sys.executable} -m pip install nltk\n",
    "    \n",
    "import nltk\n",
    "nltk.download('punkt')"
   ]
  },
  {
   "cell_type": "markdown",
   "metadata": {},
   "source": [
    "# Text Analysis\n",
    "\n",
    "The following set of functions use the [Natural Language Toolkit](https://www.nltk.org) Python library to search for the top most used words in the collection, as well as facilitate breaking it down by name or domain."
   ]
  },
  {
   "cell_type": "code",
   "execution_count": 1,
   "metadata": {},
   "outputs": [],
   "source": [
    "# You can change the value of `top` to get more results. \n",
    "top = 30\n",
    "\n",
    "def clean_domain(s):\n",
    "    stop_words = [\"com\", \"org\", \"net\", \"edu\"]\n",
    "    ret = \"\"\n",
    "    dom = s.split(\".\")\n",
    "    if len(dom) <3:\n",
    "        ret = dom[0]\n",
    "    elif dom[-2] in stop_words:\n",
    "        ret = dom[-3]\n",
    "    else:\n",
    "        ret = dom[1]\n",
    "    return ret\n",
    "\n",
    "def get_text(by=\"all\"):\n",
    "    tokens = []\n",
    "    with open(auk_full_text) as fin:\n",
    "        for line in fin:\n",
    "            split_line = str(line).split(\",\")\n",
    "            if by == \"domain\":    \n",
    "                tokens.append((clean_domain(split_line[1]), split_line[3]))\n",
    "            elif by == \"year\":\n",
    "                tokens.append((split_line[0][1:5], split_line[3]))\n",
    "            else:\n",
    "                tokens.append(split_line[3])\n",
    "    return tokens\n",
    "\n",
    "def get_text_tokens (minlen=3) :\n",
    "    tokens = []\n",
    "    with open (auk_full_text) as fin:\n",
    "        for line in fin:\n",
    "            tokens += word_tokenize(str(line).split(\",\")[3])\n",
    "    tokens = [x for x in tokens if len(x) > minlen]\n",
    "    return tokens\n",
    "\n",
    "def get_tokens_domains(minlen=3):\n",
    "    tokens = []\n",
    "    with open (auk_full_text) as fin:\n",
    "        for line in fin:\n",
    "            split_line = str(line).split(',')\n",
    "            tokens.append((clean_domain(split_line[1]), Counter([x for x in word_tokenize(str(split_line[3])) if len(x) > minlen])))\n",
    "    return tokens\n",
    "\n",
    "def get_tokens_years(minlen=3):\n",
    "    tokens = []\n",
    "    with open (auk_full_text) as fin:\n",
    "        for line in fin:\n",
    "            split_line = str(line).split(',')\n",
    "            tokens.append((split_line[0][1:5], Counter([x for x in word_tokenize(str(split_line[3])) if len(x) > minlen])))\n",
    "    return tokens\n",
    "\n",
    "def year(minlen=3):\n",
    "    return get_tokens_years(minlen)\n",
    "\n",
    "def domain(minlen=3):\n",
    "    return get_tokens_domains(minlen)\n",
    "\n",
    "def get_top_tokens(total=20, minlen=3):\n",
    "    return [(key, value) for key, value in Counter(get_text_tokens(minlen)).most_common(total)]\n",
    "\n",
    "def get_top_tokens_by(fun, total=20, minlen=3):\n",
    "    sep = dict()\n",
    "    tokens = fun(minlen)\n",
    "    sep = {k[0]: Counter() for k in tokens}\n",
    "    for key, value in tokens:\n",
    "        sep[key] += value\n",
    "    ret = [(key, val.most_common(total)) for key, val in sep.items()]\n",
    "    return (ret)\n",
    "\n",
    "def international(text):\n",
    "    return text.decode(\"utf-8\").encode(\"utf-16\")"
   ]
  },
  {
   "cell_type": "markdown",
   "metadata": {},
   "source": [
    "Now that you have saved the above functions, you can now use them in a variety of ways. \n",
    "\n",
    "### Text by Year"
   ]
  },
  {
   "cell_type": "code",
   "execution_count": 2,
   "metadata": {},
   "outputs": [
    {
     "ename": "NameError",
     "evalue": "name 'auk_full_text' is not defined",
     "output_type": "error",
     "traceback": [
      "\u001b[0;31m---------------------------------------------------------------------------\u001b[0m",
      "\u001b[0;31mNameError\u001b[0m                                 Traceback (most recent call last)",
      "\u001b[0;32m<ipython-input-2-08c20a44353b>\u001b[0m in \u001b[0;36m<module>\u001b[0;34m()\u001b[0m\n\u001b[1;32m      1\u001b[0m \u001b[0;31m# Get the set of available years in the collection\u001b[0m\u001b[0;34m\u001b[0m\u001b[0;34m\u001b[0m\u001b[0m\n\u001b[0;32m----> 2\u001b[0;31m \u001b[0mset\u001b[0m\u001b[0;34m(\u001b[0m\u001b[0;34m[\u001b[0m\u001b[0mx\u001b[0m\u001b[0;34m[\u001b[0m\u001b[0;36m0\u001b[0m\u001b[0;34m]\u001b[0m \u001b[0;32mfor\u001b[0m \u001b[0mx\u001b[0m \u001b[0;32min\u001b[0m \u001b[0mget_text\u001b[0m\u001b[0;34m(\u001b[0m\u001b[0;34m\"year\"\u001b[0m\u001b[0;34m)\u001b[0m\u001b[0;34m]\u001b[0m\u001b[0;34m)\u001b[0m\u001b[0;34m\u001b[0m\u001b[0m\n\u001b[0m",
      "\u001b[0;32m<ipython-input-1-75cd205275af>\u001b[0m in \u001b[0;36mget_text\u001b[0;34m(by)\u001b[0m\n\u001b[1;32m     16\u001b[0m \u001b[0;32mdef\u001b[0m \u001b[0mget_text\u001b[0m\u001b[0;34m(\u001b[0m\u001b[0mby\u001b[0m\u001b[0;34m=\u001b[0m\u001b[0;34m\"all\"\u001b[0m\u001b[0;34m)\u001b[0m\u001b[0;34m:\u001b[0m\u001b[0;34m\u001b[0m\u001b[0m\n\u001b[1;32m     17\u001b[0m     \u001b[0mtokens\u001b[0m \u001b[0;34m=\u001b[0m \u001b[0;34m[\u001b[0m\u001b[0;34m]\u001b[0m\u001b[0;34m\u001b[0m\u001b[0m\n\u001b[0;32m---> 18\u001b[0;31m     \u001b[0;32mwith\u001b[0m \u001b[0mopen\u001b[0m\u001b[0;34m(\u001b[0m\u001b[0mauk_full_text\u001b[0m\u001b[0;34m)\u001b[0m \u001b[0;32mas\u001b[0m \u001b[0mfin\u001b[0m\u001b[0;34m:\u001b[0m\u001b[0;34m\u001b[0m\u001b[0m\n\u001b[0m\u001b[1;32m     19\u001b[0m         \u001b[0;32mfor\u001b[0m \u001b[0mline\u001b[0m \u001b[0;32min\u001b[0m \u001b[0mfin\u001b[0m\u001b[0;34m:\u001b[0m\u001b[0;34m\u001b[0m\u001b[0m\n\u001b[1;32m     20\u001b[0m             \u001b[0msplit_line\u001b[0m \u001b[0;34m=\u001b[0m \u001b[0mstr\u001b[0m\u001b[0;34m(\u001b[0m\u001b[0mline\u001b[0m\u001b[0;34m)\u001b[0m\u001b[0;34m.\u001b[0m\u001b[0msplit\u001b[0m\u001b[0;34m(\u001b[0m\u001b[0;34m\",\"\u001b[0m\u001b[0;34m)\u001b[0m\u001b[0;34m\u001b[0m\u001b[0m\n",
      "\u001b[0;31mNameError\u001b[0m: name 'auk_full_text' is not defined"
     ]
    }
   ],
   "source": [
    "# Get the set of available years in the collection \n",
    "set([x[0] for x in get_text(\"year\")])"
   ]
  },
  {
   "cell_type": "markdown",
   "metadata": {},
   "source": [
    "Now we can create separate lists with text files from individual years in this collection. The example below selects all items from the year 2016. You may need to change it."
   ]
  },
  {
   "cell_type": "code",
   "execution_count": 4,
   "metadata": {},
   "outputs": [],
   "source": [
    "year_results = [t[1] for t in get_text(\"year\") if t[0] == \"2016\"]"
   ]
  },
  {
   "cell_type": "code",
   "execution_count": 20,
   "metadata": {},
   "outputs": [
    {
     "name": "stdout",
     "output_type": "stream",
     "text": [
      ")\n",
      "\n",
      ")\n",
      "\n",
      ")\n",
      "\n",
      "404 Not Found Not Found The requested URL /thumbs/c3e0677be2f6.jpg was not found on this server.)\n",
      "\n",
      "404 Not Found Not Found The requested URL /thumbs/6a5e80c11f3d.jpg was not found on this server.)\n",
      "\n",
      "404 Not Found Not Found The requested URL /thumbs/eb55c88d287c.png was not found on this server.)\n",
      "\n",
      "�\b\u0000\u0000\u0000\u0000\u0000\u0000\u0003�}kS#9��g&b���=��\u001fe\u001b�G�>@C\u000fs�nNC���� BU%�Ք�jJU���#�g�\u0013q��_r3%��/ �׬�\u0019�R��L�2�T����~�?���\u0001����19��w|�Or�R���~�����P+�5r�S�[��:�.�\u000e>�H�\u001f\u0004^�T���*^U���+�}*���]+ٮ�Y� ��Ο~x�i�z`;�3���l6Kט''3��^���y�\u0001+9�U����\n",
      "302 Found Found The document has moved here.)\n",
      "\n",
      "Save.ca - Coupons and Deals For All of Canada - Save.ca - ExternalWidget Flyers WEEKLY FLYERS LOADING  &nbspFLYER LOADING  &nbspFLYER LOADING  &nbspFLYER LOADING  &nbspFLYER LOADING  &nbspFLYER LOADING  &nbspFLYER LOADING  &nbspFLYER LOADING  &nbspFLYER LOADING  &nbspFLYER LOADING  &nbspFLYER)\n",
      "\n",
      "JobPosting - schema.org schema.org Documentation Schemas Home JobPosting Thing > Intangible > JobPosting A listing that describes a job opening in a certain organization. Usage: Between 10\n"
     ]
    }
   ],
   "source": [
    "# print the first ten results from the year specified above\n",
    "for x in year_results[:10]:\n",
    "    print(x)"
   ]
  },
  {
   "cell_type": "code",
   "execution_count": 6,
   "metadata": {},
   "outputs": [],
   "source": [
    "# you may now want to export this file so you can work with it. \n",
    "# this will appear in the directory that this notebook is in\n",
    "# you may want to change the output path\n",
    "\n",
    "with open(\"results-2016.txt\", \"w\") as output_file:\n",
    "    for value in year_results:\n",
    "        output_file.write(str(value))"
   ]
  },
  {
   "cell_type": "markdown",
   "metadata": {},
   "source": [
    "### Text by Domain"
   ]
  },
  {
   "cell_type": "code",
   "execution_count": 7,
   "metadata": {},
   "outputs": [
    {
     "data": {
      "text/plain": [
       "{'accuweather',\n",
       " 'bcdailybuzz',\n",
       " 'blackpress',\n",
       " 'facebook',\n",
       " 'google',\n",
       " 'googleapis',\n",
       " 'googlesyndication',\n",
       " 'issuu',\n",
       " 'nanaimodailynews',\n",
       " 'save',\n",
       " 'schema'}"
      ]
     },
     "execution_count": 7,
     "metadata": {},
     "output_type": "execute_result"
    }
   ],
   "source": [
    "# Get the set of available domains in the collection \n",
    "set([x[0] for x in get_text(\"domain\")])"
   ]
  },
  {
   "cell_type": "code",
   "execution_count": 8,
   "metadata": {},
   "outputs": [
    {
     "data": {
      "text/plain": [
       "9835"
      ]
     },
     "execution_count": 8,
     "metadata": {},
     "output_type": "execute_result"
    }
   ],
   "source": [
    "# extract only the given domain to a file and see how many results there are\n",
    "\n",
    "domain_results = [t[1] for t in get_text(\"domain\") if t[0] == \"nanaimodailynews\"]\n",
    "len(domain_results)"
   ]
  },
  {
   "cell_type": "code",
   "execution_count": 9,
   "metadata": {},
   "outputs": [
    {
     "data": {
      "text/plain": [
       "[\"Nanaimo Daily News - Nanaimo Daily News Real Estate e-Edition Obits 27° Sunny Home Our Team Contact Us Advertising Info News BC News Sports BC Sports BC Games NFL Business BC Business Entertainment BC Arts & Entertainment What's on Guide Our Town Opinion BC Opinions Letters Web Poll Driveway World Canada / World Sports Vancouver \\xa0 Classifieds Browse Classifieds BC Jobs Connect with Us \\xa0 Goodbye posted Jan 29\",\n",
       " \"�\\x08\\x00\\x00\\x00\\x00\\x00\\x00\\x03�}kS#9��g&b���=��\\x1fe\\x1b�G�>@C\\x0fs�nNC���� BU%�Ք�jJU���#�g�\\x13q��_r3%��/ �\\u05ec�\\x19�R��L�2�T����~�?���\\x01����19��w|�Or�R���~�����P+�5r�S�[��:�.�\\x0e>�H�\\x1f\\x04^�T���*^U���+�}*���]+ٮ�Y� ��Ο~x�i�z`;�3���l6Kט''3��^���y�\\x01+9�U����\\x7f\",\n",
       " 'Nanaimo Daily News - Local News',\n",
       " '�\\x08\\x00\\x00\\x00\\x00\\x00\\x00\\x03�Z�n\\x1b�\\x15��\\x00y�1�f���$�(q)�E|k\\x058\\x17$\\x0e��0���Yr��yw(J \\x04\\x14}����E�$O�o�����d�r�ݝ9�̹|s�e�\\x0f������~|A\\x16\"K�|��T^IJ�����.F:�\\x05����L3&(�\\x16����u�\"�\\x1fw[3\\x0b!J��[�Y���/��ϊ����)뒨�\\x05��v�b��9\\x1bD����ll$\\x08.R��/��{5\\x1d�{5\\\\G\\x15/\\x05��h֕�\\'�!=����(�)�%������0�a=<{�d��p\\x1c<\\x0e��!�x\\x1e���\\'ӡ\\x16�Dk��J�$�\\x1e����\\x06$�\\x17\\x03R�4\\x1f\\x10Z�)\\x13\\x03R�g',\n",
       " \"Nanaimo Daily News - eEdition (Real Estate) Real Estate e-Edition Obits 27° Sunny Home Our Team Contact Us Advertising Info News BC News Sports BC Sports BC Games NFL Business BC Business Entertainment BC Arts & Entertainment What's on Guide Our Town Opinion BC Opinions Letters Web Poll Driveway World Canada / World Sports Vancouver \\xa0 Classifieds Browse Classifieds BC Jobs Real Estate Guide\"]"
      ]
     },
     "execution_count": 9,
     "metadata": {},
     "output_type": "execute_result"
    }
   ],
   "source": [
    "# print the first five results from the year specified above\n",
    "domain_results[:5]"
   ]
  },
  {
   "cell_type": "code",
   "execution_count": 10,
   "metadata": {},
   "outputs": [],
   "source": [
    "# you may now want to export this file so you can work with the text of one domain. \n",
    "# this will appear in the directory that this notebook is in\n",
    "# you may want to change the output path\n",
    "\n",
    "with open(\"results-domain.txt\", \"w\") as output_file:\n",
    "    for value in domain_results:\n",
    "        output_file.write(str(value))"
   ]
  },
  {
   "cell_type": "markdown",
   "metadata": {},
   "source": [
    "## Overall Collection Characteristics"
   ]
  },
  {
   "cell_type": "code",
   "execution_count": 11,
   "metadata": {},
   "outputs": [
    {
     "data": {
      "text/plain": [
       "[('News', 32997),\n",
       " ('Sports', 26951),\n",
       " ('World', 17705),\n",
       " ('Business', 17512),\n",
       " ('Entertainment', 17502),\n",
       " ('Classifieds', 14711),\n",
       " ('Nanaimo', 13550),\n",
       " ('Daily', 13214),\n",
       " ('Canada', 9245),\n",
       " ('Games', 8830),\n",
       " ('Vancouver', 8824),\n",
       " ('Team', 8795),\n",
       " ('Home', 8785),\n",
       " ('Letters', 8779),\n",
       " ('Contact', 8777),\n",
       " ('Jobs', 8771),\n",
       " ('Advertising', 8769),\n",
       " ('Info', 8766),\n",
       " ('Opinion', 8764),\n",
       " ('Browse', 8758),\n",
       " ('Opinions', 8755),\n",
       " ('Poll', 8753),\n",
       " ('Guide', 8740),\n",
       " ('Town', 8710),\n",
       " ('What', 8695),\n",
       " ('Arts', 8692),\n",
       " ('Driveway', 8686),\n",
       " ('Obits', 8676),\n",
       " ('with', 6915),\n",
       " ('Real', 6070)]"
      ]
     },
     "execution_count": 11,
     "metadata": {},
     "output_type": "execute_result"
    }
   ],
   "source": [
    "# Get a list of the top words in the collection\n",
    "# (regardless of year).\n",
    "get_top_tokens(top)"
   ]
  },
  {
   "cell_type": "code",
   "execution_count": 12,
   "metadata": {},
   "outputs": [
    {
     "data": {
      "text/plain": [
       "[('2016',\n",
       "  [('News', 32990),\n",
       "   ('Sports', 26948),\n",
       "   ('World', 17703),\n",
       "   ('Business', 17510),\n",
       "   ('Entertainment', 17500),\n",
       "   ('Classifieds', 14709),\n",
       "   ('Nanaimo', 13547),\n",
       "   ('Daily', 13211),\n",
       "   ('Canada', 9244),\n",
       "   ('Games', 8829),\n",
       "   ('Vancouver', 8823),\n",
       "   ('Team', 8794),\n",
       "   ('Home', 8782),\n",
       "   ('Letters', 8778),\n",
       "   ('Contact', 8776),\n",
       "   ('Jobs', 8770),\n",
       "   ('Advertising', 8768),\n",
       "   ('Info', 8765),\n",
       "   ('Opinion', 8763),\n",
       "   ('Browse', 8757),\n",
       "   ('Opinions', 8754),\n",
       "   ('Poll', 8752),\n",
       "   ('Guide', 8739),\n",
       "   ('Town', 8709),\n",
       "   ('What', 8694),\n",
       "   ('Arts', 8691),\n",
       "   ('Driveway', 8685),\n",
       "   ('Obits', 8675),\n",
       "   ('with', 6913),\n",
       "   ('Real', 6069)]),\n",
       " ('2009',\n",
       "  [('News', 6),\n",
       "   ('Nanaimo', 3),\n",
       "   ('Daily', 3),\n",
       "   ('Sports', 3),\n",
       "   ('Found', 2),\n",
       "   ('Business', 2),\n",
       "   ('Entertainment', 2),\n",
       "   ('World', 2),\n",
       "   ('Classifieds', 2),\n",
       "   ('requested', 1),\n",
       "   ('/thumbs/575280c2a866.jpg', 1),\n",
       "   ('found', 1),\n",
       "   ('this', 1),\n",
       "   ('server', 1),\n",
       "   ('Real', 1),\n",
       "   ('Estate', 1),\n",
       "   ('e-Edition', 1),\n",
       "   ('Obits', 1),\n",
       "   ('Sunny', 1),\n",
       "   ('Home', 1),\n",
       "   ('Team', 1),\n",
       "   ('Contact', 1),\n",
       "   ('Advertising', 1),\n",
       "   ('Info', 1),\n",
       "   ('Games', 1),\n",
       "   ('Arts', 1),\n",
       "   ('What', 1),\n",
       "   ('Guide', 1),\n",
       "   ('Town', 1),\n",
       "   ('Opinion', 1)]),\n",
       " ('2014',\n",
       "  [('Help', 3),\n",
       "   ('Whidbey', 2),\n",
       "   ('News-Times', 2),\n",
       "   ('Maps', 2),\n",
       "   ('more', 2),\n",
       "   ('Feedback', 2),\n",
       "   ('Profile', 2),\n",
       "   ('Home', 2),\n",
       "   ('Terms', 2),\n",
       "   ('Facebook', 2),\n",
       "   ('schema.org', 2),\n",
       "   ('Schema.org', 2),\n",
       "   ('Google+', 1),\n",
       "   ('Search', 1),\n",
       "   ('Images', 1),\n",
       "   ('Play', 1),\n",
       "   ('YouTube', 1),\n",
       "   ('News', 1),\n",
       "   ('Gmail', 1),\n",
       "   ('Drive', 1),\n",
       "   ('More', 1),\n",
       "   ('Calendar', 1),\n",
       "   ('Translate', 1),\n",
       "   ('Mobile', 1),\n",
       "   ('Books', 1),\n",
       "   ('Wallet', 1),\n",
       "   ('Shopping', 1),\n",
       "   ('Blogger', 1),\n",
       "   ('Finance', 1),\n",
       "   ('Photos', 1)])]"
      ]
     },
     "execution_count": 12,
     "metadata": {},
     "output_type": "execute_result"
    }
   ],
   "source": [
    "# Get a list of the top tokens, separated by year.\n",
    "get_top_tokens_by(year, top)"
   ]
  },
  {
   "cell_type": "code",
   "execution_count": 13,
   "metadata": {},
   "outputs": [
    {
     "data": {
      "text/plain": [
       "[('bcdailybuzz',\n",
       "  [('Found', 8),\n",
       "   ('requested', 4),\n",
       "   ('found', 4),\n",
       "   ('server', 4),\n",
       "   ('/thumbs/c3e0677be2f6.jpg', 1),\n",
       "   ('/thumbs/575280c2a866.jpg', 1),\n",
       "   ('/thumbs/6a5e80c11f3d.jpg', 1),\n",
       "   ('/thumbs/eb55c88d287c.png', 1)]),\n",
       " ('nanaimodailynews',\n",
       "  [('Sports', 26951),\n",
       "   ('World', 17705),\n",
       "   ('Business', 17512),\n",
       "   ('Entertainment', 17502),\n",
       "   ('Classifieds', 14711),\n",
       "   ('Nanaimo', 13461),\n",
       "   ('Daily', 13125),\n",
       "   ('Canada', 9244),\n",
       "   ('Games', 8830),\n",
       "   ('Vancouver', 8823),\n",
       "   ('Letters', 8779),\n",
       "   ('Contact', 8776),\n",
       "   ('Advertising', 8768),\n",
       "   ('Opinion', 8764),\n",
       "   ('Browse', 8758),\n",
       "   ('Opinions', 8755),\n",
       "   ('Guide', 8740),\n",
       "   ('Driveway', 8686),\n",
       "   ('Obits', 8676),\n",
       "   ('Estate', 6064),\n",
       "   ('e-Edition', 5945),\n",
       "   ('Connect', 5935),\n",
       "   ('Clear', 5600),\n",
       "   ('posted', 4921),\n",
       "   ('XComments', 4804),\n",
       "   ('Closed', 4804),\n",
       "   ('Tweet', 4804),\n",
       "   ('Community', 3896),\n",
       "   ('Latest', 2745),\n",
       "   ('Crowdfunding', 2735)]),\n",
       " ('google',\n",
       "  [('Whidbey', 2),\n",
       "   ('News-Times', 2),\n",
       "   ('Feedback', 2),\n",
       "   ('Profile', 2),\n",
       "   ('Terms', 2),\n",
       "   ('Google+', 1),\n",
       "   ('Search', 1),\n",
       "   ('Images', 1),\n",
       "   ('YouTube', 1),\n",
       "   ('Gmail', 1),\n",
       "   ('Drive', 1),\n",
       "   ('Calendar', 1),\n",
       "   ('Translate', 1),\n",
       "   ('Mobile', 1),\n",
       "   ('Books', 1),\n",
       "   ('Wallet', 1),\n",
       "   ('Shopping', 1),\n",
       "   ('Blogger', 1),\n",
       "   ('Finance', 1),\n",
       "   ('Photos', 1),\n",
       "   ('Videos', 1),\n",
       "   ('Account', 1),\n",
       "   ('Options', 1),\n",
       "   ('History', 1),\n",
       "   ('People', 1),\n",
       "   ('Collections', 1),\n",
       "   ('Communities', 1),\n",
       "   ('Events', 1),\n",
       "   ('Hangouts', 1),\n",
       "   ('Pages', 1)]),\n",
       " ('facebook',\n",
       "  [('Facebook', 2),\n",
       "   ('Cross-Domain', 1),\n",
       "   ('Messaging', 1),\n",
       "   ('helper', 1),\n",
       "   ('SECURITY', 1),\n",
       "   ('WARNING', 1),\n",
       "   ('Please', 1),\n",
       "   ('treat', 1),\n",
       "   ('above', 1),\n",
       "   ('would', 1),\n",
       "   ('password', 1),\n",
       "   ('share', 1),\n",
       "   ('anyone', 1),\n",
       "   ('Center', 1),\n",
       "   ('information', 1)]),\n",
       " ('googlesyndication', [('SafeFrame', 1), ('Container', 1)]),\n",
       " ('save',\n",
       "  [('LOADING', 10),\n",
       "   ('nbspFLYER', 10),\n",
       "   ('Found', 2),\n",
       "   ('Save.ca', 2),\n",
       "   ('document', 1),\n",
       "   ('moved', 1),\n",
       "   ('Coupons', 1),\n",
       "   ('Deals', 1),\n",
       "   ('Canada', 1),\n",
       "   ('ExternalWidget', 1),\n",
       "   ('Flyers', 1),\n",
       "   ('WEEKLY', 1),\n",
       "   ('FLYERS', 1)]),\n",
       " ('schema',\n",
       "  [('schema.org', 8),\n",
       "   ('Documentation', 4),\n",
       "   ('Schemas', 4),\n",
       "   ('JobPosting', 3),\n",
       "   ('Thing', 3),\n",
       "   ('Organization', 3),\n",
       "   ('Place', 3),\n",
       "   ('Schema.org', 2),\n",
       "   ('organization', 2),\n",
       "   ('About', 1),\n",
       "   ('Welcome', 1),\n",
       "   ('collaborative', 1),\n",
       "   ('Intangible', 1),\n",
       "   ('listing', 1),\n",
       "   ('describes', 1),\n",
       "   ('opening', 1),\n",
       "   ('certain', 1),\n",
       "   ('Usage', 1),\n",
       "   ('Between', 1),\n",
       "   ('school', 1),\n",
       "   ('Entities', 1),\n",
       "   ('somewhat', 1),\n",
       "   ('fixed', 1)]),\n",
       " ('accuweather',\n",
       "  [('AccuWeather.com', 1),\n",
       "   ('Weather', 1),\n",
       "   ('Canadian', 1),\n",
       "   ('Cities', 1),\n",
       "   ('International', 1),\n",
       "   ('Locations', 1),\n",
       "   ('Vancouver', 1)]),\n",
       " ('issuu',\n",
       "  [('Nanaimo', 89),\n",
       "   ('Daily', 89),\n",
       "   ('Moved', 48),\n",
       "   ('Permanently', 48),\n",
       "   ('Redirecting', 48),\n",
       "   ('https', 42),\n",
       "   ('mode=mobile', 21),\n",
       "   ('mobile=true', 16),\n",
       "   ('issuu', 10),\n",
       "   ('Black', 8),\n",
       "   ('Press', 8),\n",
       "   ('publisher', 8),\n",
       "   ('Special', 6),\n",
       "   ('Features', 6),\n",
       "   ('Plans', 6),\n",
       "   ('Explore', 4),\n",
       "   ('Publisher', 4),\n",
       "   ('Follow', 4),\n",
       "   ('Unfollow', 4),\n",
       "   ('publications', 4),\n",
       "   ('Share', 4),\n",
       "   ('publication', 4),\n",
       "   ('company', 3),\n",
       "   ('Hunting', 3),\n",
       "   ('Regulations', 3),\n",
       "   ('2016_2018', 3),\n",
       "   ('Family', 3),\n",
       "   ('Forbidden', 2),\n",
       "   ('//issuu.com/blackpress/docs/i2016012910180182', 2),\n",
       "   ('//issuu.com/blackpress/docs/i20160128044442341', 2)]),\n",
       " ('googleapis',\n",
       "  [('Error', 1),\n",
       "   ('Found', 1),\n",
       "   ('error', 1),\n",
       "   ('requested', 1),\n",
       "   ('found', 1),\n",
       "   ('server', 1)]),\n",
       " ('blackpress',\n",
       "  [('Media', 4),\n",
       "   ('Management', 4),\n",
       "   ('Black', 3),\n",
       "   ('Press', 3),\n",
       "   ('Download', 3),\n",
       "   ('Sales', 2),\n",
       "   ('About', 2),\n",
       "   ('Community', 1),\n",
       "   ('Publications', 1),\n",
       "   ('Advertising', 1),\n",
       "   ('Solutions', 1),\n",
       "   ('Classified', 1),\n",
       "   ('National', 1),\n",
       "   ('FLYER', 1),\n",
       "   ('DIGITAL', 1),\n",
       "   ('Printing', 1),\n",
       "   ('Executives', 1),\n",
       "   ('Company', 1),\n",
       "   ('Contact', 1),\n",
       "   ('Careers', 1),\n",
       "   ('History', 1),\n",
       "   ('oldest', 1)])]"
      ]
     },
     "execution_count": 13,
     "metadata": {},
     "output_type": "execute_result"
    }
   ],
   "source": [
    "# Get a list of top tokens, separated by domain.\n",
    "get_top_tokens_by(domain, top, 4)"
   ]
  },
  {
   "cell_type": "code",
   "execution_count": 14,
   "metadata": {},
   "outputs": [
    {
     "data": {
      "image/png": "[encoded data removed]",
      "text/plain": [
       "<Figure size 432x288 with 1 Axes>"
      ]
     },
     "metadata": {},
     "output_type": "display_data"
    }
   ],
   "source": [
    "# Create a dispersion plot, showing where the list of words appear\n",
    "# in the text.\n",
    "text = get_text_tokens(1)\n",
    "dp(text, [\"he\", \"she\"]) # uses the nltk dispersion plot library (dp)."
   ]
  },
  {
   "cell_type": "markdown",
   "metadata": {},
   "source": [
    "# Bibliography\n",
    "\n",
    "Bird, Steven, Edward Loper and Ewan Klein (2009), *Natural Language       Processing with Python*. O’Reilly Media Inc.\n",
    "\n",
    "Archives Unleashed Project. (2018). Archives Unleashed Toolkit (Version 0.17.0). Apache License, Version 2.0."
   ]
  },
  {
   "cell_type": "code",
   "execution_count": 21,
   "metadata": {},
   "outputs": [
    {
     "data": {
      "text/plain": [
       "sys.version_info(major=3, minor=7, micro=0, releaselevel='final', serial=0)"
      ]
     },
     "execution_count": 21,
     "metadata": {},
     "output_type": "execute_result"
    }
   ],
   "source": [
    "import sys\n",
    "sys.version\n",
    "sys.version_info"
   ]
  },
  {
   "cell_type": "code",
   "execution_count": null,
   "metadata": {},
   "outputs": [],
   "source": []
  }
 ],
 "metadata": {
  "kernelspec": {
   "display_name": "Python 3",
   "language": "python",
   "name": "python3"
  },
  "language_info": {
   "codemirror_mode": {
    "name": "ipython",
    "version": 3
   },
   "file_extension": ".py",
   "mimetype": "text/x-python",
   "name": "python",
   "nbconvert_exporter": "python",
   "pygments_lexer": "ipython3",
   "version": "3.6.7"
  }
 },
 "nbformat": 4,
 "nbformat_minor": 2
}
