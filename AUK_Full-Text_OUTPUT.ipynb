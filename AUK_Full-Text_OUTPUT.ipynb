{
 "cells": [
  {
   "cell_type": "markdown",
   "metadata": {},
   "source": [
    "\n",
    "<img src=\"https://raw.githubusercontent.com/archivesunleashed/archivesunleashed.org/master/themes/hugo-material-docs/static/images/logo-square.png\" height=\"100px\" width=\"100px\">\n",
    "\n",
    "\n",
    "# Welcome\n",
    "\n",
    "Welcome to the Archives Unleashed Cloud Visualization Demo in Jupyter Notebook for your collection. This demonstration takes the main derivatives from the Cloud and uses Python to analyze and produce information about your collection.\n",
    "\n",
    "This product is in beta, so if you encounter any issues, please post an [issue in our Github repository](https://github.com/archivesunleashed/auk/issues) to let us know about any bugs you encountered or features you would like to see included.\n",
    "\n",
    "If you have some basic Python coding experience, you can change the code we provided to suit your own needs.\n",
    "\n",
    "Unfortunately, we cannot support code that you produced yourself. We recommend that you use `File > Make a Copy` first before changing the code in the repository. That way, you can always return to the basic visualizations we have offered here. Of course, you can also just re-download the Jupyter Notebook file from your Archives Unleashed Cloud account.\n",
    "\n",
    "### How Jupyter Notebooks Work:\n",
    "\n",
    "If you have no previous experience of Jupyter Notebooks, the most important thing to understand is that that <Shift><Enter/Return> will run the python code inside a window and output it to the site.\n",
    "    \n",
    "The window titled `# RUN THIS FIRST` should be the first place you go. This will import all the libraries and set basic variables (e.g. where your derivative files are located) for the notebook. After that, everything else should be able to run on its own.\n",
    "\n",
    "If you just want to see the results for your collection, use `Cell > Run All`.\n"
   ]
  },
  {
   "cell_type": "code",
   "execution_count": 163,
   "metadata": {},
   "outputs": [],
   "source": [
    "# Required imports from sys\n",
    "\n",
    "from collections import Counter\n",
    "import logging\n",
    "\n",
    "coll_id = \"4465\"\n",
    "auk_fp = \"./data/\"\n",
    "auk_full_text = auk_fp + coll_id + \"-fulltext.txt\"\n",
    "auk_gephi = auk_fp + coll_id + \"-gephi.gexf\"\n",
    "auk_graphml = auk_fp + coll_id + \"-gephi.grapml\"\n",
    "auk_domains = auk_fp + coll_id + \"-fullurls.txt\"\n",
    "auk_filtered_text = auk_fp + coll_id + \"-filtered_text.zip\""
   ]
  },
  {
   "cell_type": "code",
   "execution_count": 164,
   "metadata": {},
   "outputs": [
    {
     "name": "stdout",
     "output_type": "stream",
     "text": [
      "This script will check if you have all required dependencies:\n",
      "\n",
      "Matplotlib OK.\n",
      "GGplot OK.\n",
      "Numpy OK.\n",
      "Pandas OK.\n",
      "Nltk OK.\n",
      "Full text OK.\n",
      "ERROR No File Access: Could not open the gephi file.\n",
      "                      Did you remember to include the downloads in the same folder?\n",
      "Domains OK.\n",
      "\n"
     ]
    },
    {
     "name": "stderr",
     "output_type": "stream",
     "text": [
      "[nltk_data] Downloading package vader_lexicon to\n",
      "[nltk_data]     /Users/ryandeschamps/nltk_data...\n",
      "[nltk_data]   Package vader_lexicon is already up-to-date!\n"
     ]
    }
   ],
   "source": [
    "def sanity_check():\n",
    "    output = \"This script will check if you have all required dependencies:\\n\\n\"\n",
    "    try:\n",
    "        import matplotlib.pyplot\n",
    "        output += \"Matplotlib OK.\\n\"\n",
    "    except ImportError:\n",
    "        output += \"ERROR MATPLOTLIB required: Matplotlib is required to show graph visualizations.\\n\"\n",
    "        output += \"                           Try `pip install -u matplotlib` to install.\\n\"\n",
    "    try:\n",
    "        import ggplot\n",
    "        output += \"GGplot OK.\\n\"\n",
    "    except ImportError:\n",
    "        output += \"WARN GGPlot: GGplot will improve graph visualizations.\\n\"\n",
    "        output += \"                           Try `pip install -u ggplot` to install.\\n\"\n",
    "    try:\n",
    "        import numpy\n",
    "        output += \"Numpy OK.\\n\"\n",
    "    except ImportError:\n",
    "        output += \"WARN NUMPY MISSING: You will not be able to use some math features.\\n\"\n",
    "        output += \"                    Try `pip install -u numpy` to install.\\n\"\n",
    "    try:\n",
    "        import pandas\n",
    "        output += \"Pandas OK.\\n\"\n",
    "    except ImportError:\n",
    "        output += \"WARN PANDAS MISSING: This means you cannot access dataframes.\\n\"\n",
    "        output += \"                     Try `pip install -u pandas` to install.\\n\"\n",
    "    try: \n",
    "        import nltk\n",
    "        from nltk.tokenize import word_tokenize, sent_tokenize\n",
    "        from nltk.draw.dispersion import dispersion_plot as dp\n",
    "        nltk.download('vader_lexicon')\n",
    "        output += \"Nltk OK.\\n\"\n",
    "    except ImportError:\n",
    "        output += \"WARN NLTK MISSING: This means you cannot do text analysis.\\n\"\n",
    "        output += \"                   Try `pip install -u nltk` to install.\\n\"\n",
    "    try:\n",
    "        open(auk_full_text)\n",
    "        output += \"Full text OK.\\n\"\n",
    "    except NameError:\n",
    "        output += \"ERROR No File Variables: Looks like you forgot to run the first window.\\n\"\n",
    "        output += \"                         Use <SHIFT><RETURN/ENTER> on the first code window\\n\"\n",
    "    except FileNotFoundError:\n",
    "        output += \"ERROR No File Access: Could not open the full-text file.\\n\"\n",
    "        output += \"                      Did you remember to include the downloads in the same folder?\\n\"\n",
    "    try:\n",
    "        open(auk_gephi)\n",
    "        output += \"Gephi OK.\\n\"\n",
    "    except NameError:\n",
    "        output += \"ERROR No File Variables: Looks like you forgot to run the first window.\\n\"\n",
    "        output += \"                         Use <SHIFT><RETURN/ENTER> on the first code window\\n\"\n",
    "    except FileNotFoundError:\n",
    "        output += \"ERROR No File Access: Could not open the gephi file.\\n\"\n",
    "        output += \"                      Did you remember to include the downloads in the same folder?\\n\"\n",
    "    try:\n",
    "        open(auk_domains)\n",
    "        output += \"Domains OK.\\n\"\n",
    "    except NameError:\n",
    "        output += \"ERROR No File Variables: Looks like you forgot to run the first window.\\n\"\n",
    "        output += \"                         Use <SHIFT><RETURN/ENTER> on the first code window\\n\"\n",
    "    except FileNotFoundError:\n",
    "        output += \"ERROR No File Access: Could not open the domains file.\\n\"\n",
    "        output += \"                      Did you remember to include the downloads in the same folder?\\n\"\n",
    "    return (output)\n",
    "\n",
    "print(sanity_check())\n",
    "    \n",
    "    "
   ]
  },
  {
   "cell_type": "markdown",
   "metadata": {
    "tags": [
     "remove_cell"
    ]
   },
   "source": [
    "# Text Analysis\n",
    "\n",
    "The following set of functions use the [Natural Language Toolkit](https://www.nltk.org) Python library to search for the top most used words in the collection, as well as facilitate breaking it down by name or domain.\n",
    "\n",
    "Set the variables below if you wish to make some changes."
   ]
  },
  {
   "cell_type": "code",
   "execution_count": 165,
   "metadata": {},
   "outputs": [],
   "source": [
    "##  CONSTANTS / CONFIGURATION\n",
    "#\n",
    "# If you wish to fine tune the outputs, you may change the following:\n",
    "#\n",
    "# maximum number of words to show in output.\n",
    "# Jupyter will create an output error if the number is too high.\n",
    "TOP_COUNT = 30 \n",
    "\n",
    "# Domain suffixes to check non-U.S. domains.\n",
    "# so that (e.g.) www.google.co.uk will become \"google\"\n",
    "STOP_DOMAINS = [\"co\", \"org\", \"net\", \"edu\"] # domain suffixes to remove\n",
    "\n",
    "# minimum number of characters for a word to be included in a corpus\n",
    "MINIMUM_WORD_LENGTH = 3 # eliminates \"it\", \"I\", \"be\" etc.\n",
    "\n",
    "# list of substrings to filter a text line, if desired\n",
    "LINE_FILTER = ['404 Not Found', '403 Forbidden', '404 Document', '500 Internal Server', '503 Service', '301 Moved',\n",
    "              '502 Proxy Error']\n",
    "\n",
    "# Limit of results - large derivatives may cause your browser to freeze.\n",
    "RESULTS_LIMIT = 2500\n",
    "\n",
    "\n",
    "## Toolkit imports\n",
    "import matplotlib.pyplot as pp\n",
    "import pandas as pd\n",
    "import numpy as np\n",
    "from nltk.tokenize import word_tokenize, sent_tokenize\n",
    "from nltk.draw.dispersion import dispersion_plot as dp\n",
    "from nltk.classify import NaiveBayesClassifier\n",
    "from nltk.corpus import subjectivity\n",
    "from nltk.sentiment import SentimentAnalyzer\n",
    "from nltk.sentiment.util import *\n",
    "from nltk.sentiment.vader import SentimentIntensityAnalyzer\n",
    "\n",
    "def clean_domain(s):\n",
    "    \"\"\"Extracts the name from the domain (e.g. 'www.google.com' becomes 'google').\"\"\"\n",
    "    ret = \"\"\n",
    "    dom = s.split(\".\")\n",
    "    if len(dom) <3: # x.com is always x\n",
    "        ret = dom[0]\n",
    "    elif dom[-2] in STOP_DOMAINS: # www.x.co.uk should be x\n",
    "        ret = dom[-3]\n",
    "    else:\n",
    "        ret = dom[1]\n",
    "    return ret\n",
    "\n",
    "\n",
    "def get_text(by=\"all\", minline=MINIMUM_WORD_LENGTH):\n",
    "    \"\"\"Get just the text from the files.\"\"\"\n",
    "    text = []\n",
    "    with open(auk_full_text) as fin:\n",
    "        head = [next(fin) for x in range(RESULTS_LIMIT)]\n",
    "    for line in head:          \n",
    "        split_line = str(line).split(\",\", 3)\n",
    "        if (len(split_line[3]) >= 3 and set([split_line[3].find(x) for x in LINE_FILTER]) == {-1}):   \n",
    "            if by == \"domain\":    \n",
    "                text.append((clean_domain(split_line[1]), split_line[3]))\n",
    "            elif by == \"year\":\n",
    "                text.append((split_line[0][1:5], split_line[3]))\n",
    "            else:\n",
    "                text.append(split_line[3])\n",
    "    return text\n",
    "\n",
    "def get_text_tokens (minlen=MINIMUM_WORD_LENGTH) :\n",
    "    \"\"\"Get the data and tokenize the text.\"\"\"\n",
    "    tokens = []\n",
    "    with open (auk_full_text) as fin:\n",
    "        head = [next(fin) for x in range(RESULTS_LIMIT)]\n",
    "    for line in head:\n",
    "        split_line = str(line).lower().split(\",\", 3)\n",
    "        # remove lines that are smaller than 3 chars or in the FILTER list.\n",
    "        if (len(split_line[3]) >= minlen and set([split_line[3].find(x) for x in LINE_FILTER]) == {-1}):\n",
    "            tokens += word_tokenize(split_line[3])\n",
    "    tokens = [x for x in tokens if len(x) > minlen]\n",
    "    return tokens\n",
    "\n",
    "def get_tokens_domains(minlen=MINIMUM_WORD_LENGTH):\n",
    "    \"\"\"Get tokens by domain\"\"\"\n",
    "    tokens = []\n",
    "    with open (auk_full_text) as fin:\n",
    "        head = [next(fin) for x in range(RESULTS_LIMIT)]\n",
    "    for line in head:\n",
    "        split_line = str(line).lower().split(\",\", 3)\n",
    "        if (len(split_line[3]) >= minlen and set([split_line[3].find(x) for x in LINE_FILTER]) == {-1}):\n",
    "            tokens.append((clean_domain(split_line[1]), Counter([x for x in word_tokenize(str(split_line[3])) if len(x) > minlen])))\n",
    "    return tokens\n",
    "\n",
    "def get_tokens_years(minlen=MINIMUM_WORD_LENGTH):\n",
    "    \"\"\"Get tokens by year.\"\"\"\n",
    "    tokens = []\n",
    "    with open (auk_full_text) as fin:\n",
    "        head = [next(fin) for x in range(RESULTS_LIMIT)]\n",
    "    for line in head:\n",
    "        split_line = str(line).lower().split(\",\", 3)\n",
    "        if (len(split_line[3]) >= minlen and set([split_line[3].find(x) for x in LINE_FILTER]) == {-1}):\n",
    "            tokens.append((split_line[0][1:5], Counter([x for x in word_tokenize(str(split_line[3])) if len(x) > minlen])))\n",
    "    return tokens\n",
    "\n",
    "def year(minlen=MINIMUM_WORD_LENGTH):\n",
    "    \"\"\"Used by get_top_tokens_by to get the tokens by year.\"\"\"\n",
    "    return get_tokens_years(minlen)\n",
    "\n",
    "def domain(minlen=MINIMUM_WORD_LENGTH):\n",
    "    \"\"\"Used by get_top_tokens_by to get tokens by domain.\"\"\"\n",
    "    return get_tokens_domains(minlen)\n",
    " \n",
    "def get_top_tokens(total=TOP_COUNT, minlen=MINIMUM_WORD_LENGTH):\n",
    "    \"\"\"Return the top tokens for the text.\"\"\"\n",
    "    return [(key, value) for key, value in Counter(get_text_tokens(minlen)).most_common(total)]\n",
    "\n",
    "def get_top_tokens_by(fun, total=TOP_COUNT, minlen=MINIMUM_WORD_LENGTH):\n",
    "    \"\"\" Get the top tokens by a function.\n",
    "    \n",
    "    Parameters\n",
    "    ----------\n",
    "    fun: A function that returns a list of (key, Counter([tokenized_list]))\n",
    "    total: The number of top tokens to return for each key.\n",
    "    minlen: The minimum word length.\n",
    "    \n",
    "    Returns\n",
    "    -------\n",
    "    ret: list of minlen tokens by fun.\n",
    "    \"\"\"\n",
    "    \n",
    "    sep = dict()\n",
    "    tokens = fun(minlen)\n",
    "    sep = {k[0]: Counter() for k in tokens}\n",
    "    for key, value in tokens:\n",
    "        sep[key] += value\n",
    "    ret = [(key, val.most_common(total)) for key, val in sep.items()]\n",
    "    return (ret)\n",
    "\n",
    "# applies utf-16 encoding to text, if possible\n",
    "def international(text):\n",
    "    unicode = text.encode(\"utf-8\")\n",
    "    try:\n",
    "        ret = unicode.decode(\"UTF-32-LE\")\n",
    "    except UnicodeDecodeError:\n",
    "        try:\n",
    "            ret = unicode.decode(\"UTF-32-BE\")\n",
    "        except UnicodeDecodeError:\n",
    "            try: \n",
    "                ret = unicode.decode(\"UTF-16-LE\")\n",
    "            except UnicodeDecodeError:\n",
    "                try: \n",
    "                    ret = unicode.decode(\"UTF-16-BE\")\n",
    "                except UnicodeDecodeError:\n",
    "                    logging.warning(\"Could not convert text to UTF-16 or UTF-32. Restoring UTF-8\")\n",
    "                    ret = unicode.decode(\"UTF-8\")\n",
    "            \n",
    "    return ret\n",
    "\n",
    "# writes results to stdout\n",
    "def write_output (stdout, results):\n",
    "    try:\n",
    "        with open(filename, \"w\") as output:\n",
    "            for value in results:\n",
    "                output_file_write(str(value))\n",
    "    except:\n",
    "        print(\"Error writing the file.\")\n",
    "        \n",
    "def sentiment_scores(by=\"domain\"):\n",
    "    sep = dict()\n",
    "    corpus = get_text(by)\n",
    "    sep = {k[0]: [] for k in corpus}\n",
    "    for key, value in corpus:\n",
    "        sep[key] += sent_tokenize(value)\n",
    "    sid = SentimentIntensityAnalyzer()\n",
    "    result = []\n",
    "    for a, b in sep.items():\n",
    "        scores = Counter({\"neg\": 0, \"pos\":0, \"neu\":0, \"compound\":0})\n",
    "        for c in b:\n",
    "            scores.update(sid.polarity_scores(c))\n",
    "        result += [(a, (\"neg\", scores['neg']/len(b)), (\"pos\", scores['neg']/len(b)), (\"neu\", scores['neu']/len(b)), (\"compound\", scores['compound']/len(b)))]\n",
    "      #  [(key, sid.polarity_scores(text)) for key, text in sep.items()]\n",
    "    return(result)"
   ]
  },
  {
   "cell_type": "markdown",
   "metadata": {},
   "source": [
    "Now that you have saved the above functions, you can now use them in a variety of ways. \n",
    "\n",
    "### Text by Year"
   ]
  },
  {
   "cell_type": "code",
   "execution_count": 166,
   "metadata": {},
   "outputs": [
    {
     "name": "stdout",
     "output_type": "stream",
     "text": [
      "{'2014', '2015'}\n"
     ]
    }
   ],
   "source": [
    "method = \"year\" # choose \"year\", \"domain\" or \"all\"\n",
    "\n",
    "# Get the set of available years in the collection \n",
    "year_range = set([x[0] for x in get_text(method)])\n",
    "print(year_range)"
   ]
  },
  {
   "cell_type": "markdown",
   "metadata": {},
   "source": [
    "Now we can create separate lists with text files from individual years in this collection. You can add years (e.g. \"2019\") to `filtered_range` to limit your results."
   ]
  },
  {
   "cell_type": "code",
   "execution_count": 167,
   "metadata": {},
   "outputs": [
    {
     "name": "stdout",
     "output_type": "stream",
     "text": [
      "HTTP/1.1 200 OK Date: Fri, 21 Mar 2014 18:44:42 GMT Server: Apache X-Powered-By: PHP/5.3.28 P3P: CP=\"NOI ADM DEV PSAi COM NAV OUR OTRo STP IND DEM\" Expires: Mon, 1 Jan 2001 00:00:00 GMT Cache-Control: no-store, no-cache, must-revalidate, post-check=0, pre-check=0 Pragma: no-cache Set-Cookie: 684cd27e6e3424024e28fbf325da9a22=n8dgjp0f9es4j6f1gtbc6vms52; path=/; HttpOnly Last-Modified: Fri, 21 Mar 2014 18:44:43 GMT Content-Length: 47316 Connection: close Content-Type: text/html; charset=utf-8 Home Home I want to... Read the Latest News Garden for Wildlife Protect my Land Get Kids Outside Care for Endangered Species About Western Painted Turtles About Sharp-tailed Snakes About Blue-grey Taildroppers Volunteer Donate ProgramsBlog & Current Projects STEWARDSHIP Good Neighbours Species at Risk Forest & Land Cover Mapping LAND PROTECTION Covenants & Acquisitions EDUCATION Green Spots Goldstream Chums Conservation Connection Forum Publications& Research & Data About HAT Who are we? Our Board Our Staff Become a Member Contact us Donate Donate Now Make a Planned Gift Inspire Yourself! Join us May 4th for our largest ever Native Plant Garden tour ... Read More Protected: Ty Mynydd Newly protected habitat in Metchosin complements existing park Read More Make Turtle Homes: Basking logs go into Swan Lake Read More › ‹ 1 2 3 These videos highlight how you can help Native Plant Garden Tour Goodbye and Hello Thanks to Shaw TV's \"Did You Know\" segement, HAT can share some great quick videos about our work and how you can be involved. First up is a video about our Citizen Science projects, in particular the Blue-grey Taildropper Slug. Everyone can particpate in science! Read More Join us for our annual Native Plant Garden Tour on Sunday afternoon, May 4th. For your copy of the tour guide email This email address is being protected from spambots. You need JavaScript enabled to view it. or call 250 995 2428. Bring the whole family for a free tour filled with new friends, experiences, and ideas for your own property. You’ll see some of the six public and four private gardens of all sizes and ages. Some gardens are strictly native while others incorporate native species with imported ornamentals. Shady forest gardens, sunny rock outcrops, wetlands, nurseries, ponds, and plants await your visit. Read More As spring approaches, changes are afoot not only in the wildlflower meadows, but also at the HAT office.  Peter Dunsmore-Papagiannis, HAT Community & Development Coordinator is leaving HAT to join the Our Place Society team. We know that Peter will continue to have a positive impact on our community through his work at Our Place, and are delighted that he has offered to continue as volunteer with HAT. So this is not so much \"goodbye,\" as \"see you soon!\" At the same time we are pleased to announce that Paige Erickson-McGee will be joining HAT as our new Community & … Read More I want to... Garden for Wildlife Gardening with native plants, organic lawn care, and more ideas for home Protect my Land Learn about options to protect nature on your land through covenants or donations of land. Get kids outside Create a native plant garden at your school or go on a field trip to Goldstream Care for Endangered Species Endangered turtles, snakes, and slugs need your help, and so does HAT Volunteer Help care for parks and natural areas, and meet new people too! Donate Become a member and support HAT's mission 1 Twitter Tweets by @HabitatAcqTrust Sign Up for HAT's E-News Email Address: Contact us ph. 250 995-2428 fax: 250 920-7975 Mailing Address:PO Box 8552, Victoria, BC, V8W 3S2 Office at: 827 Broughton St email: This email address is being protected from spambots. You need JavaScript enabled to view it.   Login Login Form Remember Me Forgot your password? Forgot your username?)\n",
      "\n",
      "HTTP/1.0 200 OK Date: Fri, 21 Mar 2014 18:45:07 GMT Server: gwiseguy/2.0 Content-Type: text/html; charset=utf-8 Expires: Tue, 27 Apr 1971 19:44:06 EST P3P: CP=\"This is not a P3P policy! See http://support.google.com/accounts/bin/answer.py?answer=151657&hl=en for more info.\" X-XSS-Protection: 1; mode=block; report=https://www.google.com/appserve/security-bugs/log/youtube Set-Cookie: VISITOR_INFO1_LIVE=haAMAOOUpd4; path=/; domain=.youtube.com; expires=Thu, 20-Nov-2014 06:38:07 GMT Set-Cookie: VISITOR_INFO1_LIVE=haAMAOOUpd4; path=/; domain=.youtube.com; expires=Thu, 20-Nov-2014 06:38:07 GMT Set-Cookie: YSC=EyQs0MBQikQ; path=/; domain=.youtube.com; httponly X-Frame-Options: ALLOWALL X-Content-Type-Options: nosniff Cache-Control: no-cache Alternate-Protocol: 80:quic \"Did You Know?\" Citizen Scientists - Shaw TV Victoria - YouTube)\n",
      "\n",
      "HTTP/1.0 200 OK Server: Apache/2.2.15 (CentOS) Last-Modified: Fri, 21 Mar 2014 18:45:16 +0000 ETag: \"1395427516\" Content-Language: en Link: ; rel=\"shortlink\",; rel=\"canonical\" Content-Type: text/html; charset=utf-8 Expires: Fri, 21 Mar 2014 18:45:17 GMT Cache-Control: max-age=0, no-cache, no-store Pragma: no-cache Date: Fri, 21 Mar 2014 18:45:17 GMT Content-Length: 21204 Connection: close Set-Cookie: first_signup_attempt=%7B%22source%22%3A%22www.hat.bc.ca%22%2C%22medium%22%3A%22organic%22%2C%22campaign%22%3A%22%22%2C%22term%22%3A%22%22%2C%22content%22%3A%22%22%2C%22notes%22%3A%22%22%7D; expires=Sun, 20-Mar-2016 18:45:17 GMT; Max-Age=63072000; path=/; domain=verticalresponse.com Set-Cookie: last_signup_attempt=%7B%22source%22%3A%22www.hat.bc.ca%22%2C%22medium%22%3A%22organic%22%2C%22campaign%22%3A%22%22%2C%22term%22%3A%22%22%2C%22content%22%3A%22%22%2C%22notes%22%3A%22%22%7D; path=/; domain=verticalresponse.com Set-Cookie: ltqstring=%3Futm_source%3Dwww.hat.bc.ca%26utm_medium%3Dorganic%26utm_campaign%3D%26utm_term%3D%26utm_content%3D%26sn%3D; path=/; domain=verticalresponse.com VerticalResponse | Email Marketing. Just Like That. Skip to main content Toggle navigation Get Started Log In Features Pricing About Us More Grow Your Business with Email Marketing! Keep your customers coming back again and again with emails that take only minutes to make. Get Started. It's Free! Keep Your Customers Coming Back See how Sally uses VerticalResponse to quickly and easily create and send professional looking emails to get the word out about her business. See what VR can do! Why use email marketing? Whether you’re sending a monthly newsletter, special offer, or invitation,email and social media are a low-cost one-two punch. Learn more Email Newsletters Offers & Promotions Invitations Thanks in large part to email marketing, I've been able to reach nearly every monthly sales goal that I've set for my business. Sally Waters, Birdy Botanicals Over 1,000,000 Users Worldwide × More Resources Blog Partner With Us Job Opportunities Support Did we mention it's free? Get Started Home Features Pricing About Us Resources Blog Support 1 (855) 333-1055           Terms of Service | Privacy Policy Copyright ©2001-2014 VerticalResponse Inc.)\n",
      "\n",
      "HTTP/1.0 200 OK Date: Fri, 21 Mar 2014 18:45:19 GMT Server: gwiseguy/2.0 Expires: Tue, 27 Apr 1971 19:44:06 EST X-Content-Type-Options: nosniff Content-Type: text/html; charset=utf-8 X-Frame-Options: ALLOWALL Cache-Control: no-cache X-XSS-Protection: 1; mode=block; report=https://www.google.com/appserve/security-bugs/log/youtube Alternate-Protocol: 80:quic Tim Buckley - Goodbye and Hello - YouTube)\n",
      "\n",
      "HTTP/1.0 200 OK Date: Fri, 21 Mar 2014 18:45:20 GMT Server: gwiseguy/2.0 X-Content-Type-Options: nosniff Expires: Tue, 27 Apr 1971 19:44:06 EST Content-Type: text/html; charset=utf-8 Cache-Control: no-cache X-Frame-Options: SAMEORIGIN X-XSS-Protection: 1; mode=block; report=https://www.google.com/appserve/security-bugs/log/youtube Alternate-Protocol: 80:quic \"Did You Know?\" Citizen Scientists - Shaw TV Victoria - YouTube Upload Sign in Search Loading... This video is unavailable. \"Did You Know?\" Citizen Scientists - Shaw TV Victoria ShawTVSouthVI·2,251 videos SubscribeSubscribedUnsubscribe 927 Subscription preferences Loading... Loading... Working... 67 views 2     0 Like Sign in to YouTube Sign in with your Google Account (YouTube, Google+, Gmail, Orkut, Picasa, or Chrome) to like ShawTVSouthVI's video. Sign in Sign in to YouTube Sign in with your Google Account (YouTube, Google+, Gmail, Orkut, Picasa, or Chrome) to dislike ShawTVSouthVI's video. Sign in About Share Add to Sign in to YouTube Sign in with your Google Account (YouTube, Google+, Gmail, Orkut, Picasa, or Chrome) to add ShawTVSouthVI's video to your playlist. Sign in Published on Mar 12, 2014 Citizens Scientists are discovering new populations of species at risk through a program with Habitat Aquisition Trust. Category Sports License Standard YouTube License Show more Show less Loading... Loading... Loading... The interactive transcript could not be loaded. Loading... Loading... Sign in Ratings have been disabled for this video. Rating is available when the video has been rented. This feature is not available right now. Please try again later. Loading... 15:44 I've Grown Accustomed To Her Face - 101 Strings Orchestra! [1080p] by John Williams 830 views 11:43 \"go! Island\" Visits Blue Whale Gallery - Shaw TV Victoria by ShawTVSouthVI 49 views 4:05 Fierce Studio - Shaw TV Victoria by ShawTVSouthVI 821 views 8:15 \"go! Island\" Visits VIU's Cowichan Trades Centre (Part 1) - Shaw TV Duncan by ShawTVSouthVI 54 views 3:32 Do pedestrians have the right of way - without a crosswalk? by ctvvi 1,274 views 3:19 Ming the Therapy Dog - Shaw TV Victoria by ShawTVSouthVI 170 views 1:11 \"Did You Know?\" Climate Change - Shaw TV Victoria by ShawTVSouthVI 90 views 4:04 Carlos Boozer Mic'd Up | Rockets vs Bulls | March 13, 2014 | NBA 2013-2014 Season by NBAshowtimeHD9 3,091,909 views 1:31 Smoke IS the Bandit with Mobil 1 -- Ep. 4 -- THE SHERIFF by OfficialMobil1 23,616 views 10:21 Jabari Parker: The First 18 Years by Duke Basketball 31,007 views 1:11 Crazy Snow Plow Driver - Truck 5403 by grippedfilms 127,297 views 0:40 LeBron James dunks on Dwight Howard! (03.16.2014) by NBA Highlights 165,792 views Language: English Country: Worldwide Safety: Off Help Loading... Loading... Loading... About Press & Blogs Copyright Creators & Partners Advertising Developers +YouTube Terms Privacy Policy & Safety Send feedback Try something new! Loading... Working... Sign in to add this to Watch Later Sign in to add this to Watch Later Loading playlists... Back)\n",
      "\n",
      "HTTP/1.0 200 OK Date: Fri, 21 Mar 2014 18:45:22 GMT Server: gwiseguy/2.0 X-XSS-Protection: 1; mode=block; report=https://www.google.com/appserve/security-bugs/log/youtube X-Content-Type-Options: nosniff X-Frame-Options: SAMEORIGIN Content-Type: text/html; charset=utf-8 Cache-Control: no-cache Expires: Tue, 27 Apr 1971 19:44:06 EST Alternate-Protocol: 80:quic Tim Buckley - Goodbye and Hello - YouTube Upload Sign in Search Loading... This video is unavailable. Tim Buckley - Goodbye and Hello SpaceOdyssee0·371 videos SubscribeSubscribedUnsubscribe 4,144 Subscription preferences Loading... Loading... Working... 78,845 383     3 Like Sign in to YouTube Sign in with your Google Account (YouTube, Google+, Gmail, Orkut, Picasa, or Chrome) to like SpaceOdyssee0's video. Sign in Sign in to YouTube Sign in with your Google Account (YouTube, Google+, Gmail, Orkut, Picasa, or Chrome) to dislike SpaceOdyssee0's video. Sign in About Share Add to Sign in to YouTube Sign in with your Google Account (YouTube, Google+, Gmail, Orkut, Picasa, or Chrome) to add SpaceOdyssee0's video to your playlist. Sign in Uploaded on Feb 7, 2010 Tim Buckley - Goodbye and Hello [1967] Category Music License Standard YouTube License Show more Show less Loading... Loading... Loading... Loading... Sign in Ratings have been disabled for this video. Rating is available when the video has been rented. This feature is not available right now. Please try again later. Loading... 51 videos Play all Mix - Tim Buckley - Goodbye and HelloYouTube 43:05 Tim Buckley - Goodbye and Hello - Complete Album by Wells Martin Featured 33,844 6:01 Tim Buckley - I Never Asked to Be Your Mountain by SpaceOdyssee0 119,484 views 5:13 Tim Buckley - Chase the Blues Away by SpaceOdyssee0 28,981 views 5:44 Tim Buckley - The River by SpaceOdyssee0 97,875 views 5:43 Tim Buckley - Sing a Song for You by SpaceOdyssee0 33,725 views Tim Buckley 1,556 videosSubscribeSubscribedUnsubscribe 14 5:16 Tim Buckley - Pleasant Street by SpaceOdyssee0 198,930 views 4:00 The Gun Club - My Dreams by SpaceOdyssee0 32,124 views 3:24 Tim Buckley - Once I Was by SpaceOdyssee0 187,756 views 3:24 Tim Buckley - (1967) - Once I Was by rasalinga 36,972 views 3:19 Tim Buckley - Song to the Siren by SpaceOdyssee0 1,433,866 views 12:20 Tim Buckley - Gypsy Woman by Fabrizio Romano 131,371 views 7:39 Tim Buckley - Strange Feelin' by SpaceOdyssee0 52,381 views 8:28 Tim Buckley - Sweet Surrender by Mario Espinoza Pino 235,846 views 2:51 Tim Buckley - Morning Glory by SpaceOdyssee0 44,175 views 3:39 tim buckley - morning glory by laupsek 717,621 views 4:23 Tim Buckley - Wayfaring Stranger by SpaceOdyssee0 25,218 views 3:05 Tim Buckley - Song Of The Magician by SpaceOdyssee0 33,824 views 5:59 Tim Buckley - Buzzin' Fly by SpaceOdyssee0 88,046 views 5:09 Tim Buckley - Down by the Borderline by SpaceOdyssee0 21,619 views Language: English Country: Worldwide Safety: Off Help Loading... Loading... Loading... About Press & Blogs Copyright Creators & Partners Advertising Developers +YouTube Terms Privacy Policy & Safety Send feedback Try something new! Loading... Working... Sign in to add this to Watch Later Sign in to add this to Watch Later Loading playlists... Back)\n",
      "\n",
      "HTTP/1.1 200 OK Date: Fri, 21 Mar 2014 18:46:01 GMT Server: Apache X-Powered-By: PHP/5.3.28 P3P: CP=\"NOI ADM DEV PSAi COM NAV OUR OTRo STP IND DEM\" Expires: Mon, 1 Jan 2001 00:00:00 GMT Cache-Control: no-store, no-cache, must-revalidate, post-check=0, pre-check=0 Pragma: no-cache Last-Modified: Fri, 21 Mar 2014 18:46:02 GMT Content-Length: 47325 Connection: close Content-Type: text/html; charset=utf-8 Home Home I want to... Read the Latest News Garden for Wildlife Protect my Land Get Kids Outside Care for Endangered Species About Western Painted Turtles About Sharp-tailed Snakes About Blue-grey Taildroppers Volunteer Donate ProgramsBlog & Current Projects STEWARDSHIP Good Neighbours Species at Risk Forest & Land Cover Mapping LAND PROTECTION Covenants & Acquisitions EDUCATION Green Spots Goldstream Chums Conservation Connection Forum Publications& Research & Data About HAT Who are we? Our Board Our Staff Become a Member Contact us Donate Donate Now Make a Planned Gift Inspire Yourself! Join us May 4th for our largest ever Native Plant Garden tour ... Read More Protected: Ty Mynydd Newly protected habitat in Metchosin complements existing park Read More Make Turtle Homes: Basking logs go into Swan Lake Read More › ‹ 1 2 3 These videos highlight how you can help Native Plant Garden Tour Goodbye and Hello Thanks to Shaw TV's \"Did You Know\" segement, HAT can share some great quick videos about our work and how you can be involved. First up is a video about our Citizen Science projects, in particular the Blue-grey Taildropper Slug. Everyone can particpate in science! Read More Join us for our annual Native Plant Garden Tour on Sunday afternoon, May 4th. For your copy of the tour guide email This email address is being protected from spambots. You need JavaScript enabled to view it. or call 250 995 2428. Bring the whole family for a free tour filled with new friends, experiences, and ideas for your own property. You’ll see some of the six public and four private gardens of all sizes and ages. Some gardens are strictly native while others incorporate native species with imported ornamentals. Shady forest gardens, sunny rock outcrops, wetlands, nurseries, ponds, and plants await your visit. Read More As spring approaches, changes are afoot not only in the wildlflower meadows, but also at the HAT office.  Peter Dunsmore-Papagiannis, HAT Community & Development Coordinator is leaving HAT to join the Our Place Society team. We know that Peter will continue to have a positive impact on our community through his work at Our Place, and are delighted that he has offered to continue as volunteer with HAT. So this is not so much \"goodbye,\" as \"see you soon!\" At the same time we are pleased to announce that Paige Erickson-McGee will be joining HAT as our new Community & … Read More I want to... Garden for Wildlife Gardening with native plants, organic lawn care, and more ideas for home Protect my Land Learn about options to protect nature on your land through covenants or donations of land. Get kids outside Create a native plant garden at your school or go on a field trip to Goldstream Care for Endangered Species Endangered turtles, snakes, and slugs need your help, and so does HAT Volunteer Help care for parks and natural areas, and meet new people too! Donate Become a member and support HAT's mission 1 Twitter Tweets by @HabitatAcqTrust Sign Up for HAT's E-News Email Address: Contact us ph. 250 995-2428 fax: 250 920-7975 Mailing Address:PO Box 8552, Victoria, BC, V8W 3S2 Office at: 827 Broughton St email: This email address is being protected from spambots. You need JavaScript enabled to view it.   Login Login Form Remember Me Forgot your password? Forgot your username?)\n",
      "\n",
      "HTTP/1.1 200 OK Date: Fri, 21 Mar 2014 18:46:04 GMT Server: Apache X-Powered-By: PHP/5.3.28 P3P: CP=\"NOI ADM DEV PSAi COM NAV OUR OTRo STP IND DEM\" Expires: Mon, 1 Jan 2001 00:00:00 GMT Cache-Control: no-store, no-cache, must-revalidate, post-check=0, pre-check=0 Pragma: no-cache Last-Modified: Fri, 21 Mar 2014 18:46:04 GMT Content-Length: 76 Connection: close Content-Type: text/html; charset=utf-8 {\"status\":\"error\",\"message\":\"Unable to find class for item \",\"payload\":null})\n",
      "\n",
      "HTTP/1.1 200 OK Date: Fri, 21 Mar 2014 18:46:05 GMT Server: Apache X-Powered-By: PHP/5.3.28 P3P: CP=\"NOI ADM DEV PSAi COM NAV OUR OTRo STP IND DEM\" Expires: Mon, 1 Jan 2001 00:00:00 GMT Cache-Control: no-store, no-cache, must-revalidate, post-check=0, pre-check=0 Pragma: no-cache Last-Modified: Fri, 21 Mar 2014 18:46:06 GMT Content-Length: 6523 Connection: close Content-Type: text/html; charset=utf-8 Search Search Search for: All words Any words Exact Phrase Ordering: Newest First Oldest First Most Popular Alphabetical Category Search Only: Categories Contacts Articles Newsfeeds Weblinks)\n",
      "\n",
      "HTTP/1.1 200 OK Date: Fri, 21 Mar 2014 18:46:07 GMT Server: Apache X-Powered-By: PHP/5.3.28 P3P: CP=\"NOI ADM DEV PSAi COM NAV OUR OTRo STP IND DEM\" Expires: Mon, 1 Jan 2001 00:00:00 GMT Cache-Control: no-store, no-cache, must-revalidate, post-check=0, pre-check=0 Pragma: no-cache Last-Modified: Fri, 21 Mar 2014 18:46:07 GMT Content-Length: 34335 Connection: close Content-Type: text/html; charset=utf-8 Search Home I want to... Read the Latest News Garden for Wildlife Protect my Land Get Kids Outside Care for Endangered Species About Western Painted Turtles About Sharp-tailed Snakes About Blue-grey Taildroppers Volunteer Donate ProgramsBlog & Current Projects STEWARDSHIP Good Neighbours Species at Risk Forest & Land Cover Mapping LAND PROTECTION Covenants & Acquisitions EDUCATION Green Spots Goldstream Chums Conservation Connection Forum Publications& Research & Data About HAT Who are we? Our Board Our Staff Become a Member Contact us Donate Donate Now Make a Planned Gift Search Search for: All words Any words Exact Phrase Ordering: Newest First Oldest First Most Popular Alphabetical Category Search Only: Categories Contacts Articles Newsfeeds Weblinks 1 Sign Up for HAT's E-News Email Address: Contact us ph. 250 995-2428 fax: 250 920-7975 Mailing Address:PO Box 8552, Victoria, BC, V8W 3S2 Office at: 827 Broughton St email: This email address is being protected from spambots. You need JavaScript enabled to view it.   Login Login Form Remember Me Forgot your password? Forgot your username?)\n",
      "\n"
     ]
    }
   ],
   "source": [
    "# change if you want a different filename.\n",
    "OUTPUT_FILENAME = \"./filtered_text.txt\" # filename if you want to output to another file.\n",
    "\n",
    "# The years to include in the analysis. If empty, you will get all available years.\n",
    "FILTERED_YEARS = [] # e.g. ['2015', '2016', '2019']\n",
    "\n",
    "year_filter = FILTERED_YEARS if FILTERED_YEARS else year_range # add or remove years for filter\n",
    "year_results = [t[1] for t in get_text(\"year\") if t[0] in list(year_filter)]\n",
    "    \n",
    "# Some of the text may be in an international font.\n",
    "for i in year_results[:10]:\n",
    "    print(i)\n",
    "\n",
    "## Commenting out the following will write the results to a `output_filename\n",
    "\n",
    "#write_output(output_filename, year_results)"
   ]
  },
  {
   "cell_type": "markdown",
   "metadata": {},
   "source": [
    "### Text by Domain"
   ]
  },
  {
   "cell_type": "code",
   "execution_count": 168,
   "metadata": {},
   "outputs": [
    {
     "name": "stdout",
     "output_type": "stream",
     "text": [
      "{'youtube-nocookie', 'facebook', 'bc', 'pacificwild', 'cbc', 'youtube', 'vimeo', 'verticalresponse', 'bing', 'hat', 'globalnews', 'wordpress'}\n"
     ]
    }
   ],
   "source": [
    "# Get the set of available domains in the collection \n",
    "domain_set = set([x[0] for x in get_text(\"domain\")])\n",
    "print(domain_set)"
   ]
  },
  {
   "cell_type": "code",
   "execution_count": 169,
   "metadata": {},
   "outputs": [
    {
     "name": "stderr",
     "output_type": "stream",
     "text": [
      "WARNING:root:Could not convert text to UTF-16 or UTF-32. Restoring UTF-8\n"
     ]
    },
    {
     "name": "stdout",
     "output_type": "stream",
     "text": [
      "****Total files****:2180\n",
      "\n",
      "****Sample results****: \n",
      "\n",
      "呈偔ㄯㄮ㈠〰传⁋慄整›牆Ⱪ㈠‱慍⁲〲㐱ㄠ㨸㐴㐺′䵇⁔敓癲牥›灁捡敨堠倭睯牥摥䈭㩹倠偈㔯㌮㈮‸㍐㩐䌠㵐丢䥏䄠䵄䐠噅倠䅓⁩佃⁍䅎⁖問⁒呏潒匠偔䤠䑎䐠䵅•硅楰敲㩳䴠湯‬‱慊⁮〲㄰〠㨰〰〺‰䵇⁔慃档ⵥ潃瑮潲㩬渠ⵯ瑳牯ⱥ渠ⵯ慣档ⱥ洠獵⵴敲慶楬慤整‬潰瑳挭敨正〽‬牰ⵥ档捥㵫‰牐条慭›潮挭捡敨匠瑥䌭潯楫㩥㘠㐸摣㜲㙥㍥㈴〴㐲㉥昸晢㈳搵㥡㉡㴲㡮杤灪昰改㑳㙪ㅦ瑧换瘶獭㈵※慰桴⼽※瑈灴湏祬䰠獡⵴潍楤楦摥›牆Ⱪ㈠‱慍⁲〲㐱ㄠ㨸㐴㐺″䵇⁔潃瑮湥⵴敌杮桴›㜴ㄳ‶潃湮捥楴湯›汣獯⁥潃瑮湥⵴祔数›整瑸栯浴㭬挠慨獲瑥甽晴㠭䠠浯⁥潈敭䤠眠湡⁴潴⸮‮敒摡琠敨䰠瑡獥⁴敎獷䜠牡敤⁮潦⁲楗摬楬敦倠潲整瑣洠⁹慌摮䜠瑥䬠摩⁳畏獴摩⁥慃敲映牯䔠摮湡敧敲⁤灓捥敩⁳扁畯⁴敗瑳牥⁮慐湩整⁤畔瑲敬⁳扁畯⁴桓牡⵰慴汩摥匠慮敫⁳扁畯⁴求敵札敲⁹慔汩牤灯数獲嘠汯湵整牥䐠湯瑡⁥牐杯慲獭求杯☠䌠牵敲瑮倠潲敪瑣⁳呓坅剁卄䥈⁐潇摯丠楥桧潢牵⁳灓捥敩⁳瑡删獩⁫潆敲瑳☠䰠湡⁤潃敶⁲慍灰湩⁧䅌䑎倠佒䕔呃佉⁎潃敶慮瑮⁳…捁畱獩瑩潩獮䔠啄䅃䥔乏䜠敲湥匠潰獴䜠汯獤牴慥⁭桃浵⁳潃獮牥慶楴湯䌠湯敮瑣潩⁮潆畲⁭畐汢捩瑡潩獮…敒敳牡档☠䐠瑡⁡扁畯⁴䅈⁔桗⁯牡⁥敷‿畏⁲潂牡⁤畏⁲瑓晡⁦敂潣敭愠䴠浥敢⁲潃瑮捡⁴獵䐠湯瑡⁥潄慮整丠睯䴠歡⁥⁡汐湡敮⁤楇瑦䤠獮楰敲夠畯獲汥Ⅶ䨠楯⁮獵䴠祡㐠桴映牯漠牵氠牡敧瑳攠敶⁲慎楴敶倠慬瑮䜠牡敤⁮潴牵⸠⸮删慥⁤潍敲倠潲整瑣摥›祔䴠湹摹⁤敎汷⁹牰瑯捥整⁤慨楢慴⁴湩䴠瑥档獯湩挠浯汰浥湥獴攠楸瑳湩⁧慰歲删慥⁤潍敲䴠歡⁥畔瑲敬䠠浯獥›慂歳湩⁧潬獧朠⁯湩潴匠慷⁮慌敫删慥⁤潍敲몀릀ㄠ㈠㌠吠敨敳瘠摩潥⁳楨桧楬桧⁴潨⁷潹⁵慣⁮敨灬丠瑡癩⁥汐湡⁴慇摲湥吠畯⁲潇摯祢⁥湡⁤效汬⁯桔湡獫琠⁯桓睡吠❖⁳䐢摩夠畯䬠潮≷猠来浥湥ⱴ䠠呁挠湡猠慨敲猠浯⁥牧慥⁴畱捩⁫楶敤獯愠潢瑵漠牵眠牯⁫湡⁤潨⁷潹⁵慣⁮敢椠癮汯敶⹤䘠物瑳甠⁰獩愠瘠摩潥愠潢瑵漠牵䌠瑩穩湥匠楣湥散瀠潲敪瑣ⱳ椠⁮慰瑲捩汵牡琠敨䈠畬ⵥ牧祥吠楡摬潲灰牥匠畬⹧䔠敶祲湯⁥慣⁮慰瑲捩慰整椠⁮捳敩据Ⅵ删慥⁤潍敲䨠楯⁮獵映牯漠牵愠湮慵⁬慎楴敶倠慬瑮䜠牡敤⁮潔牵漠⁮畓摮祡愠瑦牥潮湯‬慍⁹琴⹨䘠牯礠畯⁲潣祰漠⁦桴⁥潴牵朠極敤攠慭汩吠楨⁳浥楡⁬摡牤獥⁳獩戠楥杮瀠潲整瑣摥映潲⁭灳浡潢獴‮潙⁵敮摥䨠癡卡牣灩⁴湥扡敬⁤潴瘠敩⁷瑩‮牯挠污⁬㔲‰㤹‵㐲㠲‮牂湩⁧桴⁥桷汯⁥慦業祬映牯愠映敲⁥潴牵映汩敬⁤楷桴渠睥映楲湥獤‬硥数楲湥散ⱳ愠摮椠敤獡映牯礠畯⁲睯⁮牰灯牥祴‮潙馀汬猠敥猠浯⁥景琠敨猠硩瀠扵楬⁣湡⁤潦牵瀠楲慶整朠牡敤獮漠⁦污⁬楳敺⁳湡⁤条獥‮潓敭朠牡敤獮愠敲猠牴捩汴⁹慮楴敶眠楨敬漠桴牥⁳湩潣灲牯瑡⁥慮楴敶猠数楣獥眠瑩⁨浩潰瑲摥漠湲浡湥慴獬‮桓摡⁹潦敲瑳朠牡敤獮‬畳湮⁹潲正漠瑵牣灯ⱳ眠瑥慬摮ⱳ渠牵敳楲獥‬潰摮ⱳ愠摮瀠慬瑮⁳睡楡⁴潹牵瘠獩瑩‮敒摡䴠牯⁥獁猠牰湩⁧灡牰慯档獥‬档湡敧⁳牡⁥晡潯⁴潮⁴湯祬椠⁮桴⁥楷摬晬潬敷⁲敭摡睯ⱳ戠瑵愠獬⁯瑡琠敨䠠呁漠晦捩⹥술傠瑥牥䐠湵浳牯ⵥ慐慰楧湡楮ⱳ䠠呁䌠浯畭楮祴☠䐠癥汥灯敭瑮䌠潯摲湩瑡牯椠⁳敬癡湩⁧䅈⁔潴樠楯⁮桴⁥畏⁲汐捡⁥潓楣瑥⁹整浡‮敗欠潮⁷桴瑡倠瑥牥眠汩⁬潣瑮湩敵琠⁯慨敶愠瀠獯瑩癩⁥浩慰瑣漠⁮畯⁲潣浭湵瑩⁹桴潲杵⁨楨⁳潷歲愠⁴畏⁲汐捡ⱥ愠摮愠敲搠汥杩瑨摥琠慨⁴敨栠獡漠晦牥摥琠⁯潣瑮湩敵愠⁳潶畬瑮敥⁲楷桴䠠呁‮潓琠楨⁳獩渠瑯猠⁯畭档∠潧摯祢ⱥ•獡∠敳⁥潹⁵潳湯∡䄠⁴桴⁥慳敭琠浩⁥敷愠敲瀠敬獡摥琠⁯湡潮湵散琠慨⁴慐杩⁥牅捩獫湯䴭䝣敥眠汩⁬敢樠楯楮杮䠠呁愠⁳畯⁲敮⁷潃浭湵瑩⁹…胢₦敒摡䴠牯⁥⁉慷瑮琠⹯⸮䜠牡敤⁮潦⁲楗摬楬敦䜠牡敤楮杮眠瑩⁨慮楴敶瀠慬瑮ⱳ漠杲湡捩氠睡⁮慣敲‬湡⁤潭敲椠敤獡映牯栠浯⁥牐瑯捥⁴祭䰠湡⁤敌牡⁮扡畯⁴灯楴湯⁳潴瀠潲整瑣渠瑡牵⁥湯礠畯⁲慬摮琠牨畯桧挠癯湥湡獴漠⁲潤慮楴湯⁳景氠湡⹤䜠瑥欠摩⁳畯獴摩⁥牃慥整愠渠瑡癩⁥汰湡⁴慧摲湥愠⁴潹牵猠档潯⁬牯朠⁯湯愠映敩摬琠楲⁰潴䜠汯獤牴慥⁭慃敲映牯䔠摮湡敧敲⁤灓捥敩⁳湅慤杮牥摥琠牵汴獥‬湳歡獥‬湡⁤汳杵⁳敮摥礠畯⁲敨灬‬湡⁤潳搠敯⁳䅈⁔潖畬瑮敥⁲效灬挠牡⁥潦⁲慰歲⁳湡⁤慮畴慲⁬牡慥ⱳ愠摮洠敥⁴敮⁷数灯敬琠潯‡潄慮整䈠捥浯⁥⁡敭扭牥愠摮猠灵潰瑲䠠呁猧洠獩楳湯ㄠ吠楷瑴牥吠敷瑥⁳祢䀠慈楢慴䅴煣牔獵⁴楓湧唠⁰潦⁲䅈❔⁳ⵅ敎獷䔠慭汩䄠摤敲獳›潃瑮捡⁴獵瀠⹨㈠〵㤠㔹㈭㈴‸慦㩸㈠〵㤠〲㜭㜹‵慍汩湩⁧摁牤獥㩳佐䈠硯㠠㔵ⰲ嘠捩潴楲ⱡ䈠ⱃ嘠圸㌠㉓传晦捩⁥瑡›㈸‷牂畯桧潴⁮瑓攠慭汩›桔獩攠慭汩愠摤敲獳椠⁳敢湩⁧牰瑯捥整⁤牦浯猠慰扭瑯⹳夠畯渠敥⁤慊慶捓楲瑰攠慮汢摥琠⁯楶睥椠⹴술₠潌楧⁮潌楧⁮潆浲删浥浥敢⁲敍䘠牯潧⁴潹牵瀠獡睳牯㽤䘠牯潧⁴潹牵甠敳湲浡㽥਩ \n",
      "\n"
     ]
    },
    {
     "name": "stderr",
     "output_type": "stream",
     "text": [
      "WARNING:root:Could not convert text to UTF-16 or UTF-32. Restoring UTF-8\n"
     ]
    },
    {
     "name": "stdout",
     "output_type": "stream",
     "text": [
      "HTTP/1.0 200 OK Date: Fri, 21 Mar 2014 18:45:07 GMT Server: gwiseguy/2.0 Content-Type: text/html; charset=utf-8 Expires: Tue, 27 Apr 1971 19:44:06 EST P3P: CP=\"This is not a P3P policy! See http://support.google.com/accounts/bin/answer.py?answer=151657&hl=en for more info.\" X-XSS-Protection: 1; mode=block; report=https://www.google.com/appserve/security-bugs/log/youtube Set-Cookie: VISITOR_INFO1_LIVE=haAMAOOUpd4; path=/; domain=.youtube.com; expires=Thu, 20-Nov-2014 06:38:07 GMT Set-Cookie: VISITOR_INFO1_LIVE=haAMAOOUpd4; path=/; domain=.youtube.com; expires=Thu, 20-Nov-2014 06:38:07 GMT Set-Cookie: YSC=EyQs0MBQikQ; path=/; domain=.youtube.com; httponly X-Frame-Options: ALLOWALL X-Content-Type-Options: nosniff Cache-Control: no-cache Alternate-Protocol: 80:quic \"Did You Know?\" Citizen Scientists - Shaw TV Victoria - YouTube)\n",
      " \n",
      "\n",
      "呈偔ㄯ〮㈠〰传⁋敓癲牥›灁捡敨㈯㈮ㄮ‵䌨湥佴⥓䰠獡⵴潍楤楦摥›牆Ⱪ㈠‱慍⁲〲㐱ㄠ㨸㔴ㄺ‶〫〰‰呅条›ㄢ㤳㐵㜲ㄵ∶䌠湯整瑮䰭湡畧条㩥攠⁮楌歮›※敲㵬猢潨瑲楬歮Ⱒ※敲㵬挢湡湯捩污•潃瑮湥⵴祔数›整瑸栯浴㭬挠慨獲瑥甽晴㠭䔠灸物獥›牆Ⱪ㈠‱慍⁲〲㐱ㄠ㨸㔴ㄺ‷䵇⁔慃档ⵥ潃瑮潲㩬洠硡愭敧〽‬潮挭捡敨‬潮猭潴敲倠慲浧㩡渠ⵯ慣档⁥慄整›牆Ⱪ㈠‱慍⁲〲㐱ㄠ㨸㔴ㄺ‷䵇⁔潃瑮湥⵴敌杮桴›ㄲ〲‴潃湮捥楴湯›汣獯⁥敓⵴潃歯敩›楦獲彴楳湧灵慟瑴浥瑰┽䈷㈥猲畯捲╥㈲㌥╁㈲睷⹷慨⹴换挮╡㈲㈥╃㈲敭楤浵㈥┲䄳㈥漲杲湡捩㈥┲䌲㈥挲浡慰杩╮㈲㌥╁㈲㈥┲䌲㈥琲牥╭㈲㌥╁㈲㈥┲䌲㈥挲湯整瑮㈥┲䄳㈥┲㈲㈥╃㈲潮整╳㈲㌥╁㈲㈥┲䐷※硥楰敲㵳畓Ɱ㈠ⴰ慍⵲〲㘱ㄠ㨸㔴ㄺ‷䵇㭔䴠硡䄭敧㘽〳㈷〰㬰瀠瑡㵨㬯搠浯楡㵮敶瑲捩污敲灳湯敳挮浯匠瑥䌭潯楫㩥氠獡彴楳湧灵慟瑴浥瑰┽䈷㈥猲畯捲╥㈲㌥╁㈲睷⹷慨⹴换挮╡㈲㈥╃㈲敭楤浵㈥┲䄳㈥漲杲湡捩㈥┲䌲㈥挲浡慰杩╮㈲㌥╁㈲㈥┲䌲㈥琲牥╭㈲㌥╁㈲㈥┲䌲㈥挲湯整瑮㈥┲䄳㈥┲㈲㈥╃㈲潮整╳㈲㌥╁㈲㈥┲䐷※慰桴⼽※潤慭湩瘽牥楴慣牬獥潰獮⹥潣⁭敓⵴潃歯敩›瑬獱牴湩㵧㌥畆浴獟畯捲╥䐳睷⹷慨⹴换挮╡㘲瑵彭敭楤浵㌥潄杲湡捩㈥甶浴损浡慰杩╮䐳㈥甶浴瑟牥╭䐳㈥甶浴损湯整瑮㌥╄㘲湳㌥㭄瀠瑡㵨㬯搠浯楡㵮敶瑲捩污敲灳湯敳挮浯嘠牥楴慣剬獥潰獮⁥⁼浅楡⁬慍歲瑥湩⹧䨠獵⁴楌敫吠慨⹴匠楫⁰潴洠楡⁮潣瑮湥⁴潔杧敬渠癡杩瑡潩⁮敇⁴瑓牡整⁤潌⁧湉䘠慥畴敲⁳牐捩湩⁧扁畯⁴獕䴠牯⁥片睯夠畯⁲畂楳敮獳眠瑩⁨浅楡⁬慍歲瑥湩Ⅷ䬠敥⁰潹牵挠獵潴敭獲挠浯湩⁧慢正愠慧湩愠摮愠慧湩眠瑩⁨浥楡獬琠慨⁴慴敫漠汮⁹業畮整⁳潴洠歡⹥䜠瑥匠慴瑲摥‮瑉猧䘠敲Ⅵ䬠敥⁰潙牵䌠獵潴敭獲䌠浯湩⁧慂正匠敥栠睯匠污祬甠敳⁳敖瑲捩污敒灳湯敳琠⁯畱捩汫⁹湡⁤慥楳祬挠敲瑡⁥湡⁤敳摮瀠潲敦獳潩慮⁬潬歯湩⁧浥楡獬琠⁯敧⁴桴⁥潷摲漠瑵愠潢瑵栠牥戠獵湩獥⹳匠敥眠慨⁴剖挠湡搠Ⅿ圠票甠敳攠慭汩洠牡敫楴杮‿桗瑥敨⁲潹馀敲猠湥楤杮愠洠湯桴祬渠睥汳瑥整Ⱳ猠数楣污漠晦牥‬牯椠癮瑩瑡潩Ɱ浥楡⁬湡⁤潳楣污洠摥慩愠敲愠氠睯挭獯⁴湯ⵥ睴⁯異据⹨䰠慥湲洠牯⁥浅楡⁬敎獷敬瑴牥⁳晏敦獲☠倠潲潭楴湯⁳湉楶慴楴湯⁳桔湡獫椠⁮慬杲⁥慰瑲琠⁯浥楡⁬慭歲瑥湩Ⱨ䤠瘧⁥敢湥愠汢⁥潴爠慥档渠慥汲⁹癥牥⁹潭瑮汨⁹慳敬⁳潧污琠慨⁴❉敶猠瑥映牯洠⁹畢楳敮獳‮慓汬⁹慗整獲‬楂摲⁹潂慴楮慣獬传敶⁲ⰱ〰ⰰ〰‰獕牥⁳潗汲睤摩⁥韃䴠牯⁥敒潳牵散⁳求杯倠牡湴牥圠瑩⁨獕䨠扯传灰牯畴楮楴獥匠灵潰瑲䐠摩眠⁥敭瑮潩⁮瑩猧映敲㽥䜠瑥匠慴瑲摥䠠浯⁥敆瑡牵獥倠楲楣杮䄠潢瑵唠⁳敒潳牵散⁳求杯匠灵潰瑲ㄠ⠠㔸⤵㌠㌳ㄭ㔰‵ꃂ술₠ꃂ술₠ꃂ吠牥獭漠⁦敓癲捩⁥⁼牐癩捡⁹潐楬祣䌠灯特杩瑨술㊩〰ⴱ〲㐱嘠牥楴慣剬獥潰獮⁥湉⹣਩ \n",
      "\n",
      "呈偔ㄯ〮㈠〰传⁋慄整›牆Ⱪ㈠‱慍⁲〲㐱ㄠ㨸㔴ㄺ‹䵇⁔敓癲牥›睧獩来祵㈯〮䔠灸物獥›畔ⱥ㈠‷灁⁲㤱ㄷㄠ㨹㐴〺‶卅⁔ⵘ潃瑮湥⵴祔数伭瑰潩獮›潮湳晩⁦潃瑮湥⵴祔数›整瑸栯浴㭬挠慨獲瑥甽晴㠭堠䘭慲敭伭瑰潩獮›䱁佌䅗䱌䌠捡敨䌭湯牴汯›潮挭捡敨堠堭卓倭潲整瑣潩㩮ㄠ※潭敤戽潬正※敲潰瑲栽瑴獰⼺眯睷朮潯汧⹥潣⽭灡獰牥敶猯捥牵瑩⵹畢獧氯杯礯畯畴敢䄠瑬牥慮整倭潲潴潣㩬㠠㨰畱捩吠浩䈠捵汫祥ⴠ䜠潯扤敹愠摮䠠汥潬ⴠ夠畯畔敢਩ \n",
      "\n",
      "呈偔ㄯ〮㈠〰传⁋慄整›牆Ⱪ㈠‱慍⁲〲㐱ㄠ㨸㔴㈺‰䵇⁔敓癲牥›睧獩来祵㈯〮堠䌭湯整瑮吭灹ⵥ灏楴湯㩳渠獯楮晦䔠灸物獥›畔ⱥ㈠‷灁⁲㤱ㄷㄠ㨹㐴〺‶卅⁔潃瑮湥⵴祔数›整瑸栯浴㭬挠慨獲瑥甽晴㠭䌠捡敨䌭湯牴汯›潮挭捡敨堠䘭慲敭伭瑰潩獮›䅓䕍剏䝉义堠堭卓倭潲整瑣潩㩮ㄠ※潭敤戽潬正※敲潰瑲栽瑴獰⼺眯睷朮潯汧⹥潣⽭灡獰牥敶猯捥牵瑩⵹畢獧氯杯礯畯畴敢䄠瑬牥慮整倭潲潴潣㩬㠠㨰畱捩∠楄⁤潙⁵湋睯∿䌠瑩穩湥匠楣湥楴瑳⁳‭桓睡吠⁖楖瑣牯慩ⴠ夠畯畔敢唠汰慯⁤楓湧椠⁮敓牡档䰠慯楤杮⸮‮桔獩瘠摩潥椠⁳湵癡楡慬汢⹥∠楄⁤潙⁵湋睯∿䌠瑩穩湥匠楣湥楴瑳⁳‭桓睡吠⁖楖瑣牯慩匠慨呷卖畯桴䥖럂ⰲ㔲‱楶敤獯匠扵捳楲敢畓獢牣扩摥湕畳獢牣扩⁥㈹‷畓獢牣灩楴湯瀠敲敦敲据獥䰠慯楤杮⸮‮潌摡湩⹧⸮圠牯楫杮⸮‮㜶瘠敩獷㈠술슠슠₠‰楌敫匠杩⁮湩琠⁯潙呵扵⁥楓湧椠⁮楷桴礠畯⁲潇杯敬䄠捣畯瑮⠠潙呵扵ⱥ䜠潯汧⭥‬浇楡ⱬ传歲瑵‬楐慣慳‬牯䌠牨浯⥥琠⁯楬敫匠慨呷卖畯桴䥖猧瘠摩潥‮楓湧椠⁮楓湧椠⁮潴夠畯畔敢匠杩⁮湩眠瑩⁨潹牵䜠潯汧⁥捁潣湵⁴夨畯畔敢‬潇杯敬Ⱛ䜠慭汩‬牏畫ⱴ倠捩獡ⱡ漠⁲桃潲敭 ",
      "潴搠獩楬敫匠慨呷卖畯桴䥖猧瘠摩潥‮楓湧椠⁮扁畯⁴桓牡⁥摁⁤潴匠杩⁮湩琠⁯潙呵扵⁥楓湧椠⁮楷桴礠畯⁲潇杯敬䄠捣畯瑮⠠潙呵扵ⱥ䜠潯汧⭥‬浇楡ⱬ传歲瑵‬楐慣慳‬牯䌠牨浯⥥琠⁯摡⁤桓睡噔潓瑵器❉⁳楶敤⁯潴礠畯⁲汰祡楬瑳‮楓湧椠⁮畐汢獩敨⁤湯䴠牡ㄠⰲ㈠㄰‴楃楴敺獮匠楣湥楴瑳⁳牡⁥楤捳癯牥湩⁧敮⁷潰異慬楴湯⁳景猠数楣獥愠⁴楲歳琠牨畯桧愠瀠潲牧浡眠瑩⁨慈楢慴⁴煁極楳楴湯吠畲瑳‮慃整潧祲匠潰瑲⁳楌散獮⁥瑓湡慤摲夠畯畔敢䰠捩湥敳匠潨⁷潭敲匠潨⁷敬獳䰠慯楤杮⸮‮潌摡湩⹧⸮䰠慯楤杮⸮‮桔⁥湩整慲瑣癩⁥牴湡捳楲瑰挠畯摬渠瑯戠⁥潬摡摥‮潌摡湩⹧⸮䰠慯楤杮⸮‮楓湧椠⁮慒楴杮⁳慨敶戠敥⁮楤慳汢摥映牯琠楨⁳楶敤⹯删瑡湩⁧獩愠慶汩扡敬眠敨⁮桴⁥楶敤⁯慨⁳敢湥爠湥整⹤吠楨⁳敦瑡牵⁥獩渠瑯愠慶汩扡敬爠杩瑨渠睯‮汐慥敳琠祲愠慧湩氠瑡牥‮潌摡湩⹧⸮ㄠ㨵㐴䤠瘧⁥片睯⁮捁畣瑳浯摥吠⁯效⁲慆散ⴠㄠ㄰匠牴湩獧传捲敨瑳慲‡ㅛ㠰瀰⁝祢䨠桯⁮楗汬慩獭㠠〳瘠敩獷ㄠ㨱㌴∠潧‡獉慬摮•楖楳獴䈠畬⁥桗污⁥慇汬牥⁹‭桓睡吠⁖楖瑣牯慩戠⁹桓睡噔潓瑵器⁉㤴瘠敩獷㐠〺‵楆牥散匠畴楤⁯‭桓睡吠⁖楖瑣牯慩戠⁹桓睡噔潓瑵器⁉㈸‱楶睥⁳㨸㔱∠潧‡獉慬摮•楖楳獴嘠啉猧䌠睯捩慨⁮牔摡獥䌠湥牴⁥倨牡⁴⤱ⴠ匠慨⁷噔䐠湵慣⁮祢匠慨呷卖畯桴䥖㔠‴楶睥⁳㨳㈳䐠⁯数敤瑳楲湡⁳慨敶琠敨爠杩瑨漠⁦慷⁹‭楷桴畯⁴⁡牣獯睳污㽫戠⁹瑣癶⁩ⰱ㜲‴楶睥⁳㨳㤱䴠湩⁧桴⁥桔牥灡⁹潄⁧‭桓睡吠⁖楖瑣牯慩戠⁹桓睡噔潓瑵器⁉㜱‰楶睥⁳㨱ㄱ∠楄⁤潙⁵湋睯∿䌠楬慭整䌠慨杮⁥‭桓睡吠⁖楖瑣牯慩戠⁹桓睡噔潓瑵器⁉〹瘠敩獷㐠〺‴慃汲獯䈠潯敺⁲楍❣⁤灕簠删捯敫獴瘠⁳畂汬⁳⁼慍捲⁨㌱‬〲㐱簠丠䅂㈠㄰ⴳ〲㐱匠慥潳⁮祢丠䅂桳睯楴敭䑈‹ⰳ㤰ⰱ〹‹楶睥⁳㨱ㄳ匠潭敫䤠⁓桴⁥慂摮瑩眠瑩⁨潍楢⁬‱ⴭ䔠⹰㐠ⴠ‭䡔⁅䡓剅䙉⁆祢传晦捩慩䵬扯汩‱㌲㘬㘱瘠敩獷ㄠ㨰ㄲ䨠扡牡⁩慐歲牥›桔⁥楆獲⁴㠱夠慥獲戠⁹畄敫䈠獡敫扴污⁬ㄳ〬㜰瘠敩獷ㄠㄺ‱牃穡⁹湓睯倠潬⁷牄癩牥ⴠ吠畲正㔠〴″祢朠楲灰摥楦浬⁳㈱ⰷ㤲‷楶睥⁳㨰〴䰠䉥潲⁮慊敭⁳畤歮⁳湯䐠楷桧⁴潈慷摲‡〨⸳㘱㈮㄰⤴戠⁹䉎⁁楈桧楬桧獴ㄠ㔶㜬㈹瘠敩獷䰠湡畧条㩥䔠杮楬桳䌠畯瑮祲›潗汲睤摩⁥慓敦祴›晏⁦效灬䰠慯楤杮⸮‮潌摡湩⹧⸮䰠慯楤杮⸮‮扁畯⁴牐獥⁳…求杯⁳潃祰楲桧⁴牃慥潴獲☠倠牡湴牥⁳摁敶瑲獩湩⁧敄敶潬数獲⬠潙呵扵⁥敔浲⁳牐癩捡⁹潐楬祣☠匠晡瑥⁹敓摮映敥扤捡⁫牔⁹潳敭桴湩⁧敮ⅷ䰠慯楤杮⸮‮潗歲湩⹧⸮匠杩⁮湩琠⁯摡⁤桴獩琠⁯慗捴⁨慌整⁲楓湧椠⁮潴愠摤琠楨⁳潴圠瑡档䰠瑡牥䰠慯楤杮瀠慬汹獩獴⸮‮慂正਩ \n",
      "\n",
      "呈偔ㄯ〮㈠〰传⁋慄整›牆Ⱪ㈠‱慍⁲〲㐱ㄠ㨸㔴㈺′䵇⁔敓癲牥›睧獩来祵㈯〮堠堭卓倭潲整瑣潩㩮ㄠ※潭敤戽潬正※敲潰瑲栽瑴獰⼺眯睷朮潯汧⹥潣⽭灡獰牥敶猯捥牵瑩⵹畢獧氯杯礯畯畴敢堠䌭湯整瑮吭灹ⵥ灏楴湯㩳渠獯楮晦堠䘭慲敭伭瑰潩獮›䅓䕍剏䝉义䌠湯整瑮吭灹㩥琠硥⽴瑨汭※档牡敳㵴瑵ⵦ‸慃档ⵥ潃瑮潲㩬渠ⵯ慣档⁥硅楰敲㩳吠敵‬㜲䄠牰ㄠ㜹‱㤱㐺㨴㘰䔠呓䄠瑬牥慮整倭潲潴潣㩬㠠㨰畱捩吠浩䈠捵汫祥ⴠ䜠潯扤敹愠摮䠠汥潬ⴠ夠畯畔敢唠汰慯⁤楓湧椠⁮敓牡档䰠慯楤杮⸮‮桔獩瘠摩潥椠⁳湵癡楡慬汢⹥吠浩䈠捵汫祥ⴠ䜠潯扤敹愠摮䠠汥潬匠慰散摏獹敳づ럂㜳‱楶敤獯匠扵捳楲敢畓獢牣扩摥湕畳獢牣扩⁥ⰴ㐱‴畓獢牣灩楴湯瀠敲敦敲据獥䰠慯楤杮⸮‮潌摡湩⹧⸮圠牯楫杮⸮‮㠷㠬㔴㌠㌸술슠슠₠″楌敫匠杩⁮湩琠⁯潙呵扵⁥楓湧椠⁮楷桴礠畯⁲潇杯敬䄠捣畯瑮⠠潙呵扵ⱥ䜠潯汧⭥‬浇楡ⱬ传歲瑵‬楐慣慳‬牯䌠牨浯⥥琠⁯楬敫匠慰散摏獹敳づ猧瘠摩潥‮楓湧椠⁮楓湧椠⁮潴夠畯畔敢匠杩⁮湩眠瑩⁨潹牵䜠潯汧⁥捁潣湵⁴夨畯畔敢‬潇杯敬Ⱛ䜠慭汩‬牏畫ⱴ倠捩獡ⱡ漠⁲桃潲敭 ",
      "潴搠獩楬敫匠慰散摏獹敳づ猧瘠摩潥‮楓湧椠⁮扁畯⁴桓牡⁥摁⁤潴匠杩⁮湩琠⁯潙呵扵⁥楓湧椠⁮楷桴礠畯⁲潇杯敬䄠捣畯瑮⠠潙呵扵ⱥ䜠潯汧⭥‬浇楡ⱬ传歲瑵‬楐慣慳‬牯䌠牨浯⥥琠⁯摡⁤灓捡佥祤獳敥✰⁳楶敤⁯潴礠畯⁲汰祡楬瑳‮楓湧椠⁮灕潬摡摥漠⁮敆⁢ⰷ㈠㄰‰楔⁭畂正敬⁹‭潇摯祢⁥湡⁤效汬⁯ㅛ㘹崷䌠瑡来牯⁹畍楳⁣楌散獮⁥瑓湡慤摲夠畯畔敢䰠捩湥敳匠潨⁷潭敲匠潨⁷敬獳䰠慯楤杮⸮‮潌摡湩⹧⸮䰠慯楤杮⸮‮潌摡湩⹧⸮匠杩⁮湩删瑡湩獧栠癡⁥敢湥搠獩扡敬⁤潦⁲桴獩瘠摩潥‮慒楴杮椠⁳癡楡慬汢⁥桷湥琠敨瘠摩潥栠獡戠敥⁮敲瑮摥‮桔獩映慥畴敲椠⁳潮⁴癡楡慬汢⁥楲桧⁴潮⹷倠敬獡⁥牴⁹条楡⁮慬整⹲䰠慯楤杮⸮‮ㄵ瘠摩潥⁳汐祡愠汬䴠硩ⴠ吠浩䈠捵汫祥ⴠ䜠潯扤敹愠摮䠠汥潬潙呵扵⁥㌴〺‵楔⁭畂正敬⁹‭潇摯祢⁥湡⁤效汬⁯‭潃灭敬整䄠扬浵戠⁹敗汬⁳慍瑲湩䘠慥畴敲⁤㌳㠬㐴㘠〺‱楔⁭畂正敬⁹‭⁉敎敶⁲獁敫⁤潴䈠⁥潙牵䴠畯瑮楡⁮祢匠慰散摏獹敳づㄠ㤱㐬㐸瘠敩獷㔠ㄺ″楔⁭畂正敬⁹‭桃獡⁥桴⁥求敵⁳睁祡戠⁹灓捡佥祤獳敥‰㠲㤬ㄸ瘠敩獷㔠㐺‴楔⁭畂正敬⁹‭桔⁥楒敶⁲祢匠慰散摏獹敳づ㤠ⰷ㜸‵楶睥⁳㨵㌴吠浩䈠捵汫祥ⴠ匠湩⁧⁡潓杮映牯夠畯戠⁹灓捡佥祤獳敥‰㌳㜬㔲瘠敩獷吠浩䈠捵汫祥ㄠ㔬㘵瘠摩潥即扵捳楲敢畓獢牣扩摥湕畳獢牣扩⁥㐱㔠ㄺ‶楔⁭畂正敬⁹‭汐慥慳瑮匠牴敥⁴祢匠慰散摏獹敳づㄠ㠹㤬〳瘠敩獷㐠〺‰桔⁥畇⁮汃扵ⴠ䴠⁹牄慥獭戠⁹灓捡佥祤獳敥‰㈳ㄬ㐲瘠敩獷㌠㈺‴楔⁭畂正敬⁹‭湏散䤠圠獡戠⁹灓捡佥祤獳敥‰㠱ⰷ㔷‶楶睥⁳㨳㐲吠浩䈠捵汫祥ⴠ⠠㤱㜶 ",
      "‭湏散䤠圠獡戠⁹慲慳楬杮⁡㘳㤬㈷瘠敩獷㌠ㄺ‹楔⁭畂正敬⁹‭潓杮琠⁯桴⁥楓敲⁮祢匠慰散摏獹敳づㄠ㐬㌳㠬㘶瘠敩獷ㄠ㨲〲吠浩䈠捵汫祥ⴠ䜠灹祳圠浯湡戠⁹慆牢穩潩删浯湡⁯㌱ⰱ㜳‱楶睥⁳㨷㤳吠浩䈠捵汫祥ⴠ匠牴湡敧䘠敥楬❮戠⁹灓捡佥祤獳敥‰㈵㌬ㄸ瘠敩獷㠠㈺‸楔⁭畂正敬⁹‭睓敥⁴畓牲湥敤⁲祢䴠牡潩䔠灳湩穯⁡楐潮㈠㔳㠬㘴瘠敩獷㈠㔺‱楔⁭畂正敬⁹‭潍湲湩⁧汇牯⁹祢匠慰散摏獹敳づ㐠ⰴ㜱‵楶睥⁳㨳㤳琠浩戠捵汫祥ⴠ洠牯楮杮朠潬祲戠⁹慬灵敳⁫ㄷⰷ㈶‱楶睥⁳㨴㌲吠浩䈠捵汫祥ⴠ圠祡慦楲杮匠牴湡敧⁲祢匠慰散摏獹敳づ㈠ⰵㄲ‸楶睥⁳㨳㔰吠浩䈠捵汫祥ⴠ匠湯⁧晏吠敨䴠条捩慩⁮祢匠慰散摏獹敳づ㌠ⰳ㈸‴楶睥⁳㨵㤵吠浩䈠捵汫祥ⴠ䈠穵楺❮䘠祬戠⁹灓捡佥祤獳敥‰㠸〬㘴瘠敩獷㔠〺‹楔⁭畂正敬⁹‭潄湷戠⁹桴⁥潂摲牥楬敮戠⁹灓捡佥祤獳敥‰ㄲ㘬㤱瘠敩獷䰠湡畧条㩥䔠杮楬桳䌠畯瑮祲›潗汲睤摩⁥慓敦祴›晏⁦效灬䰠慯楤杮⸮‮潌摡湩⹧⸮䰠慯楤杮⸮‮扁畯⁴牐獥⁳…求杯⁳潃祰楲桧⁴牃慥潴獲☠倠牡湴牥⁳摁敶瑲獩湩⁧敄敶潬数獲⬠潙呵扵⁥敔浲⁳牐癩捡⁹潐楬祣☠匠晡瑥⁹敓摮映敥扤捡⁫牔⁹潳敭桴湩⁧敮ⅷ䰠慯楤杮⸮‮潗歲湩⹧⸮匠杩⁮湩琠⁯摡⁤桴獩琠⁯慗捴⁨慌整⁲楓湧椠⁮潴愠摤琠楨⁳潴圠瑡档䰠瑡牥䰠慯楤杮瀠慬汹獩獴⸮‮慂正਩ \n",
      "\n",
      "呈偔ㄯㄮ㈠〰传⁋慄整›牆Ⱪ㈠‱慍⁲〲㐱ㄠ㨸㘴〺‱䵇⁔敓癲牥›灁捡敨堠倭睯牥摥䈭㩹倠偈㔯㌮㈮‸㍐㩐䌠㵐丢䥏䄠䵄䐠噅倠䅓⁩佃⁍䅎⁖問⁒呏潒匠偔䤠䑎䐠䵅•硅楰敲㩳䴠湯‬‱慊⁮〲㄰〠㨰〰〺‰䵇⁔慃档ⵥ潃瑮潲㩬渠ⵯ瑳牯ⱥ渠ⵯ慣档ⱥ洠獵⵴敲慶楬慤整‬潰瑳挭敨正〽‬牰ⵥ档捥㵫‰牐条慭›潮挭捡敨䰠獡⵴潍楤楦摥›牆Ⱪ㈠‱慍⁲〲㐱ㄠ㨸㘴〺′䵇⁔潃瑮湥⵴敌杮桴›㜴㈳‵潃湮捥楴湯›汣獯⁥潃瑮湥⵴祔数›整瑸栯浴㭬挠慨獲瑥甽晴㠭䠠浯⁥潈敭䤠眠湡⁴潴⸮‮敒摡琠敨䰠瑡獥⁴敎獷䜠牡敤⁮潦⁲楗摬楬敦倠潲整瑣洠⁹慌摮䜠瑥䬠摩⁳畏獴摩⁥慃敲映牯䔠摮湡敧敲⁤灓捥敩⁳扁畯⁴敗瑳牥⁮慐湩整⁤畔瑲敬⁳扁畯⁴桓牡⵰慴汩摥匠慮敫⁳扁畯⁴求敵札敲⁹慔汩牤灯数獲嘠汯湵整牥䐠湯瑡⁥牐杯慲獭求杯☠䌠牵敲瑮倠潲敪瑣⁳呓坅剁卄䥈⁐潇摯丠楥桧潢牵⁳灓捥敩⁳瑡删獩⁫潆敲瑳☠䰠湡⁤潃敶⁲慍灰湩⁧䅌䑎倠佒䕔呃佉⁎潃敶慮瑮⁳…捁畱獩瑩潩獮䔠啄䅃䥔乏䜠敲湥匠潰獴䜠汯獤牴慥⁭桃浵⁳潃獮牥慶楴湯䌠湯敮瑣潩⁮潆畲⁭畐汢捩瑡潩獮…敒敳牡档☠䐠瑡⁡扁畯⁴䅈⁔桗⁯牡⁥敷‿畏⁲潂牡⁤畏⁲瑓晡⁦敂潣敭愠䴠浥敢⁲潃瑮捡⁴獵䐠湯瑡⁥潄慮整丠睯䴠歡⁥⁡汐湡敮⁤楇瑦䤠獮楰敲夠畯獲汥Ⅶ䨠楯⁮獵䴠祡㐠桴映牯漠牵氠牡敧瑳攠敶⁲慎楴敶倠慬瑮䜠牡敤⁮潴牵⸠⸮删慥⁤潍敲倠潲整瑣摥›祔䴠湹摹⁤敎汷⁹牰瑯捥整⁤慨楢慴⁴湩䴠瑥档獯湩挠浯汰浥湥獴攠楸瑳湩⁧慰歲删慥⁤潍敲䴠歡⁥畔瑲敬䠠浯獥›慂歳湩⁧潬獧朠⁯湩潴匠慷⁮慌敫删慥⁤潍敲몀릀ㄠ㈠㌠吠敨敳瘠摩潥⁳楨桧楬桧⁴潨⁷潹⁵慣⁮敨灬丠瑡癩⁥汐湡⁴慇摲湥吠畯⁲潇摯祢⁥湡⁤效汬⁯桔湡獫琠⁯桓睡吠❖⁳䐢摩夠畯䬠潮≷猠来浥湥ⱴ䠠呁挠湡猠慨敲猠浯⁥牧慥⁴畱捩⁫楶敤獯愠潢瑵漠牵眠牯⁫湡⁤潨⁷潹⁵慣⁮敢椠癮汯敶⹤䘠物瑳甠⁰獩愠瘠摩潥愠潢瑵漠牵䌠瑩穩湥匠楣湥散瀠潲敪瑣ⱳ椠⁮慰瑲捩汵牡琠敨䈠畬ⵥ牧祥吠楡摬潲灰牥匠畬⹧䔠敶祲湯⁥慣⁮慰瑲捩慰整椠⁮捳敩据Ⅵ删慥⁤潍敲䨠楯⁮獵映牯漠牵愠湮慵⁬慎楴敶倠慬瑮䜠牡敤⁮潔牵漠⁮畓摮祡愠瑦牥潮湯‬慍⁹琴⹨䘠牯礠畯⁲潣祰漠⁦桴⁥潴牵朠極敤攠慭汩吠楨⁳浥楡⁬摡牤獥⁳獩戠楥杮瀠潲整瑣摥映潲⁭灳浡潢獴‮潙⁵敮摥䨠癡卡牣灩⁴湥扡敬⁤潴瘠敩⁷瑩‮牯挠污⁬㔲‰㤹‵㐲㠲‮牂湩⁧桴⁥桷汯⁥慦業祬映牯愠映敲⁥潴牵映汩敬⁤楷桴渠睥映楲湥獤‬硥数楲湥散ⱳ愠摮椠敤獡映牯礠畯⁲睯⁮牰灯牥祴‮潙馀汬猠敥猠浯⁥景琠敨猠硩瀠扵楬⁣湡⁤潦牵瀠楲慶整朠牡敤獮漠⁦污⁬楳敺⁳湡⁤条獥‮潓敭朠牡敤獮愠敲猠牴捩汴⁹慮楴敶眠楨敬漠桴牥⁳湩潣灲牯瑡⁥慮楴敶猠数楣獥眠瑩⁨浩潰瑲摥漠湲浡湥慴獬‮桓摡⁹潦敲瑳朠牡敤獮‬畳湮⁹潲正漠瑵牣灯ⱳ眠瑥慬摮ⱳ渠牵敳楲獥‬潰摮ⱳ愠摮瀠慬瑮⁳睡楡⁴潹牵瘠獩瑩‮敒摡䴠牯⁥獁猠牰湩⁧灡牰慯档獥‬档湡敧⁳牡⁥晡潯⁴潮⁴湯祬椠⁮桴⁥楷摬晬潬敷⁲敭摡睯ⱳ戠瑵愠獬⁯瑡琠敨䠠呁漠晦捩⹥술傠瑥牥䐠湵浳牯ⵥ慐慰楧湡楮ⱳ䠠呁䌠浯畭楮祴☠䐠癥汥灯敭瑮䌠潯摲湩瑡牯椠⁳敬癡湩⁧䅈⁔潴樠楯⁮桴⁥畏⁲汐捡⁥潓楣瑥⁹整浡‮敗欠潮⁷桴瑡倠瑥牥眠汩⁬潣瑮湩敵琠⁯慨敶愠瀠獯瑩癩⁥浩慰瑣漠⁮畯⁲潣浭湵瑩⁹桴潲杵⁨楨⁳潷歲愠⁴畏⁲汐捡ⱥ愠摮愠敲搠汥杩瑨摥琠慨⁴敨栠獡漠晦牥摥琠⁯潣瑮湩敵愠⁳潶畬瑮敥⁲楷桴䠠呁‮潓琠楨⁳獩渠瑯猠⁯畭档∠潧摯祢ⱥ•獡∠敳⁥潹⁵潳湯∡䄠⁴桴⁥慳敭琠浩⁥敷愠敲瀠敬獡摥琠⁯湡潮湵散琠慨⁴慐杩⁥牅捩獫湯䴭䝣敥眠汩⁬敢樠楯楮杮䠠呁愠⁳畯⁲敮⁷潃浭湵瑩⁹…胢₦敒摡䴠牯⁥⁉慷瑮琠⹯⸮䜠牡敤⁮潦⁲楗摬楬敦䜠牡敤楮杮眠瑩⁨慮楴敶瀠慬瑮ⱳ漠杲湡捩氠睡⁮慣敲‬湡⁤潭敲椠敤獡映牯栠浯⁥牐瑯捥⁴祭䰠湡⁤敌牡⁮扡畯⁴灯楴湯⁳潴瀠潲整瑣渠瑡牵⁥湯礠畯⁲慬摮琠牨畯桧挠癯湥湡獴漠⁲潤慮楴湯⁳景氠湡⹤䜠瑥欠摩⁳畯獴摩⁥牃慥整愠渠瑡癩⁥汰湡⁴慧摲湥愠⁴潹牵猠档潯⁬牯朠⁯湯愠映敩摬琠楲⁰潴䜠汯獤牴慥⁭慃敲映牯䔠摮湡敧敲⁤灓捥敩⁳湅慤杮牥摥琠牵汴獥‬湳歡獥‬湡⁤汳杵⁳敮摥礠畯⁲敨灬‬湡⁤潳搠敯⁳䅈⁔潖畬瑮敥⁲效灬挠牡⁥潦⁲慰歲⁳湡⁤慮畴慲⁬牡慥ⱳ愠摮洠敥⁴敮⁷数灯敬琠潯‡潄慮整䈠捥浯⁥⁡敭扭牥愠摮猠灵潰瑲䠠呁猧洠獩楳湯ㄠ吠楷瑴牥吠敷瑥⁳祢䀠慈楢慴䅴煣牔獵⁴楓湧唠⁰潦⁲䅈❔⁳ⵅ敎獷䔠慭汩䄠摤敲獳›潃瑮捡⁴獵瀠⹨㈠〵㤠㔹㈭㈴‸慦㩸㈠〵㤠〲㜭㜹‵慍汩湩⁧摁牤獥㩳佐䈠硯㠠㔵ⰲ嘠捩潴楲ⱡ䈠ⱃ嘠圸㌠㉓传晦捩⁥瑡›㈸‷牂畯桧潴⁮瑓攠慭汩›桔獩攠慭汩愠摤敲獳椠⁳敢湩⁧牰瑯捥整⁤牦浯猠慰扭瑯⹳夠畯渠敥⁤慊慶捓楲瑰攠慮汢摥琠⁯楶睥椠⹴술₠潌楧⁮潌楧⁮潆浲删浥浥敢⁲敍䘠牯潧⁴潹牵瀠獡睳牯㽤䘠牯潧⁴潹牵甠敳湲浡㽥਩ \n",
      "\n",
      "呈偔ㄯㄮ㈠〰传⁋慄整›牆Ⱪ㈠‱慍⁲〲㐱ㄠ㨸㘴〺‴䵇⁔敓癲牥›灁捡敨堠倭睯牥摥䈭㩹倠偈㔯㌮㈮‸㍐㩐䌠㵐丢䥏䄠䵄䐠噅倠䅓⁩佃⁍䅎⁖問⁒呏潒匠偔䤠䑎䐠䵅•硅楰敲㩳䴠湯‬‱慊⁮〲㄰〠㨰〰〺‰䵇⁔慃档ⵥ潃瑮潲㩬渠ⵯ瑳牯ⱥ渠ⵯ慣档ⱥ洠獵⵴敲慶楬慤整‬潰瑳挭敨正〽‬牰ⵥ档捥㵫‰牐条慭›潮挭捡敨䰠獡⵴潍楤楦摥›牆Ⱪ㈠‱慍⁲〲㐱ㄠ㨸㘴〺‴䵇⁔潃瑮湥⵴敌杮桴›㘷䌠湯敮瑣潩㩮挠潬敳䌠湯整瑮吭灹㩥琠硥⽴瑨汭※档牡敳㵴瑵ⵦ‸≻瑳瑡獵㨢攢牲牯Ⱒ洢獥慳敧㨢唢慮汢⁥潴映湩⁤汣獡⁳潦⁲瑩浥∠∬慰汹慯≤渺汵絬਩ \n",
      "\n",
      "呈偔ㄯㄮ㈠〰传⁋慄整›牆Ⱪ㈠‱慍⁲〲㐱ㄠ㨸㘴〺‵䵇⁔敓癲牥›灁捡敨堠倭睯牥摥䈭㩹倠偈㔯㌮㈮‸㍐㩐䌠㵐丢䥏䄠䵄䐠噅倠䅓⁩佃⁍䅎⁖問⁒呏潒匠偔䤠䑎䐠䵅•硅楰敲㩳䴠湯‬‱慊⁮〲㄰〠㨰〰〺‰䵇⁔慃档ⵥ潃瑮潲㩬渠ⵯ瑳牯ⱥ渠ⵯ慣档ⱥ洠獵⵴敲慶楬慤整‬潰瑳挭敨正〽‬牰ⵥ档捥㵫‰牐条慭›潮挭捡敨䰠獡⵴潍楤楦摥›牆Ⱪ㈠‱慍⁲〲㐱ㄠ㨸㘴〺‶䵇⁔潃瑮湥⵴敌杮桴›㔶㌲䌠湯敮瑣潩㩮挠潬敳䌠湯整瑮吭灹㩥琠硥⽴瑨汭※档牡敳㵴瑵ⵦ‸敓牡档匠慥捲⁨敓牡档映牯›汁⁬潷摲⁳湁⁹潷摲⁳硅捡⁴桐慲敳传摲牥湩㩧丠睥獥⁴楆獲⁴汏敤瑳䘠物瑳䴠獯⁴潐異慬⁲汁桰扡瑥捩污䌠瑡来牯⁹敓牡档传汮㩹䌠瑡来牯敩⁳潃瑮捡獴䄠瑲捩敬⁳敎獷敦摥⁳敗汢湩獫਩ \n",
      "\n",
      "HTTP/1.1 200 OK Date: Fri, 21 Mar 2014 18:46:07 GMT Server: Apache X-Powered-By: PHP/5.3.28 P3P: CP=\"NOI ADM DEV PSAi COM NAV OUR OTRo STP IND DEM\" Expires: Mon, 1 Jan 2001 00:00:00 GMT Cache-Control: no-store, no-cache, must-revalidate, post-check=0, pre-check=0 Pragma: no-cache Last-Modified: Fri, 21 Mar 2014 18:46:07 GMT Content-Length: 34335 Connection: close Content-Type: text/html; charset=utf-8 Search Home I want to... Read the Latest News Garden for Wildlife Protect my Land Get Kids Outside Care for Endangered Species About Western Painted Turtles About Sharp-tailed Snakes About Blue-grey Taildroppers Volunteer Donate ProgramsBlog & Current Projects STEWARDSHIP Good Neighbours Species at Risk Forest & Land Cover Mapping LAND PROTECTION Covenants & Acquisitions EDUCATION Green Spots Goldstream Chums Conservation Connection Forum Publications& Research & Data About HAT Who are we? Our Board Our Staff Become a Member Contact us Donate Donate Now Make a Planned Gift Search Search for: All words Any words Exact Phrase Ordering: Newest First Oldest First Most Popular Alphabetical Category Search Only: Categories Contacts Articles Newsfeeds Weblinks 1 Sign Up for HAT's E-News Email Address: Contact us ph. 250 995-2428 fax: 250 920-7975 Mailing Address:PO Box 8552, Victoria, BC, V8W 3S2 Office at: 827 Broughton St email: This email address is being protected from spambots. You need JavaScript enabled to view it.   Login Login Form Remember Me Forgot your password? Forgot your username?)\n",
      " \n",
      "\n"
     ]
    }
   ],
   "source": [
    "# extract only the given domain to a file and see how many results there are\n",
    "filtered_domains = [] # e.g [\"google\", \"apple\", \"facebook\"]\n",
    "domain_set = filtered_domains if filtered_domains else domain_set\n",
    "domain_results = [t[1] for t in get_text(\"domain\") if t[0] in domain_set]\n",
    "print(\"****Total files****:\" + str(len(domain_results)) + \"\\n\")\n",
    "print(\"****Sample results****: \\n\")\n",
    "for samp in domain_results[:10]:\n",
    "    if len(samp) > 4:\n",
    "        print(international(samp) + \" \\n\")"
   ]
  },
  {
   "cell_type": "markdown",
   "metadata": {},
   "source": [
    "## Overall Collection Characteristics"
   ]
  },
  {
   "cell_type": "code",
   "execution_count": null,
   "metadata": {},
   "outputs": [],
   "source": [
    "# Get a list of the top words in the collection\n",
    "# (regardless of year).\n",
    "get_top_tokens()"
   ]
  },
  {
   "cell_type": "code",
   "execution_count": null,
   "metadata": {},
   "outputs": [],
   "source": [
    "# Get a list of the top tokens, separated by year.\n",
    "get_top_tokens_by(year)[0:10]"
   ]
  },
  {
   "cell_type": "code",
   "execution_count": null,
   "metadata": {},
   "outputs": [],
   "source": [
    "# Get a list of top tokens, separated by domain.\n",
    "get_top_tokens_by(domain)[0:10]"
   ]
  },
  {
   "cell_type": "code",
   "execution_count": null,
   "metadata": {},
   "outputs": [],
   "source": [
    "# Create a dispersion plot, showing where the list of words appear\n",
    "# in the text.\n",
    "text = get_text_tokens(1)\n",
    "dp(text, [\"he\", \"she\"]) # uses the nltk dispersion plot library (dp)."
   ]
  },
  {
   "cell_type": "code",
   "execution_count": null,
   "metadata": {},
   "outputs": [],
   "source": [
    "# Collect sentiment scores by domain and visualize them.\n",
    "\n",
    "sent = sentiment_scores()\n",
    "N = len(sent)\n",
    "neg = [x[1][1] for x in sent]\n",
    "pos = [x[2][1] for x in sent]\n",
    "neu = [x[3][1] for x in sent]\n",
    "labs = [x[0] for x in sent]\n",
    "\n",
    "ind = np.arange(N)    # the x locations for the groups\n",
    "width = 0.35       # the width of the bars: can also be len(x) sequence\n",
    "\n",
    "p1 = pp.bar(ind, neg, width)\n",
    "p2 = pp.bar(ind, neu, width,\n",
    "             bottom=neg)\n",
    "p3 = pp.bar(ind, pos, width, bottom=neu)\n",
    "\n",
    "pp.ylabel('Scores')\n",
    "pp.title('Scores by domain and sentiment')\n",
    "pp.xticks(ind, labs, rotation='vertical')\n",
    "pp.legend((p1[0], p2[0], p3[0]), ('Negative', 'Neutral', 'Positive'))\n",
    "\n",
    "pp.show()\n"
   ]
  },
  {
   "cell_type": "code",
   "execution_count": null,
   "metadata": {},
   "outputs": [],
   "source": [
    "# Collect sentiment scores by year and visualize them.\n",
    "\n",
    "sent = sentiment_scores(\"year\")\n",
    "N = len(sent)\n",
    "neg = [x[1][1] for x in sent]\n",
    "pos = [x[2][1] for x in sent]\n",
    "neu = [x[3][1] for x in sent]\n",
    "labs = sorted([x[0] for x in sent])\n",
    "\n",
    "ind = np.arange(N)    # the x locations for the groups\n",
    "width = 0.35       # the width of the bars: can also be len(x) sequence\n",
    "\n",
    "p1 = pp.bar(ind, neg, width)\n",
    "p2 = pp.bar(ind, neu, width,\n",
    "             bottom=neg)\n",
    "p3 = pp.bar(ind, pos, width, bottom=neu)\n",
    "\n",
    "pp.ylabel('Scores')\n",
    "pp.title('Scores by domain and sentiment')\n",
    "pp.xticks(ind, labs, rotation='vertical')\n",
    "pp.legend((p1[0], p2[0], p3[0]), ('Negative', 'Neutral', 'Positive'))\n",
    "\n",
    "pp.show()"
   ]
  },
  {
   "cell_type": "markdown",
   "metadata": {},
   "source": [
    "# Bibliography\n",
    "\n",
    "Bird, Steven, Edward Loper and Ewan Klein (2009), *Natural Language       Processing with Python*. O’Reilly Media Inc.\n",
    "\n",
    "Archives Unleashed Project. (2018). Archives Unleashed Toolkit (Version 0.17.0). Apache License, Version 2.0."
   ]
  }
 ],
 "metadata": {
  "kernelspec": {
   "display_name": "Python 3",
   "language": "python",
   "name": "python3"
  },
  "language_info": {
   "codemirror_mode": {
    "name": "ipython",
    "version": 3
   },
   "file_extension": ".py",
   "mimetype": "text/x-python",
   "name": "python",
   "nbconvert_exporter": "python",
   "pygments_lexer": "ipython3",
   "version": "3.7.0"
  }
 },
 "nbformat": 4,
 "nbformat_minor": 2
}
